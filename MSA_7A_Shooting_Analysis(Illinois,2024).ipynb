{
 "cells": [
  {
   "cell_type": "markdown",
   "id": "aa51a967-f908-4622-8a9d-112864377a60",
   "metadata": {},
   "source": [
    "# MSA 7A:(None Mass) Shooting Analysis: GVA Data Exploration (Illinois, 2024)"
   ]
  },
  {
   "cell_type": "code",
   "execution_count": 1,
   "id": "8ea91283-2e14-44a5-85ac-dc1cb04b51ea",
   "metadata": {},
   "outputs": [],
   "source": [
    "import json\n",
    "import pandas as pd\n",
    "import numpy as np\n",
    "import random\n",
    "from pathlib import Path\n",
    "\n",
    "import seaborn as sns\n",
    "import matplotlib as mpl\n",
    "import matplotlib.pyplot as plt\n",
    "from matplotlib.colors import LogNorm\n",
    "from matplotlib_inline.backend_inline import set_matplotlib_formats\n",
    "import myst_nb\n",
    "import wikipedia as wp\n",
    "import math\n",
    "\n"
   ]
  },
  {
   "cell_type": "markdown",
   "id": "d0eaf8c1-1a53-4eba-8656-2ed37291257c",
   "metadata": {},
   "source": [
    "## Loading Data & Formatting Dates for Analysis"
   ]
  },
  {
   "cell_type": "code",
   "execution_count": 2,
   "id": "1474a32e-d0cc-4971-a71e-bccc3271ebd1",
   "metadata": {},
   "outputs": [],
   "source": [
    "# Disable scientific notation globally\n",
    "mpl.rcParams['axes.formatter.useoffset'] = False\n",
    "mpl.rcParams['axes.formatter.use_mathtext'] = False\n",
    "mpl.rcParams['axes.formatter.limits'] = (-999, 999)  # forces normal numbers\n",
    "random.seed(33)"
   ]
  },
  {
   "cell_type": "code",
   "execution_count": 3,
   "id": "e86c8bf5-2a7f-49b3-a051-88491957a7c4",
   "metadata": {},
   "outputs": [
    {
     "data": {
      "text/plain": [
       "3018"
      ]
     },
     "execution_count": 3,
     "metadata": {},
     "output_type": "execute_result"
    }
   ],
   "source": [
    "df = pd.read_csv('MSA Data\\GVA_Illinois_24.csv')\n",
    "scope = 'Illinois, 2024'\n",
    "len(df)"
   ]
  },
  {
   "cell_type": "code",
   "execution_count": 4,
   "id": "efceaec4-41f1-41a2-acf0-5e6eb993ff30",
   "metadata": {},
   "outputs": [
    {
     "data": {
      "text/html": [
       "<div>\n",
       "<style scoped>\n",
       "    .dataframe tbody tr th:only-of-type {\n",
       "        vertical-align: middle;\n",
       "    }\n",
       "\n",
       "    .dataframe tbody tr th {\n",
       "        vertical-align: top;\n",
       "    }\n",
       "\n",
       "    .dataframe thead th {\n",
       "        text-align: right;\n",
       "    }\n",
       "</style>\n",
       "<table border=\"1\" class=\"dataframe\">\n",
       "  <thead>\n",
       "    <tr style=\"text-align: right;\">\n",
       "      <th></th>\n",
       "      <th>Incident ID</th>\n",
       "      <th>Incident Date</th>\n",
       "      <th>State</th>\n",
       "      <th>City Or County</th>\n",
       "      <th>Address</th>\n",
       "      <th>Victims Killed</th>\n",
       "      <th>Victims Injured</th>\n",
       "      <th>Suspects Killed</th>\n",
       "      <th>Suspects Injured</th>\n",
       "      <th>Suspects Arrested</th>\n",
       "      <th>Operations</th>\n",
       "    </tr>\n",
       "  </thead>\n",
       "  <tbody>\n",
       "    <tr>\n",
       "      <th>0</th>\n",
       "      <td>3106259</td>\n",
       "      <td>December 31, 2024</td>\n",
       "      <td>Illinois</td>\n",
       "      <td>Chicago</td>\n",
       "      <td>1107 S Mozart St</td>\n",
       "      <td>0</td>\n",
       "      <td>1</td>\n",
       "      <td>0</td>\n",
       "      <td>0</td>\n",
       "      <td>0</td>\n",
       "      <td>NaN</td>\n",
       "    </tr>\n",
       "    <tr>\n",
       "      <th>1</th>\n",
       "      <td>3106276</td>\n",
       "      <td>December 31, 2024</td>\n",
       "      <td>Illinois</td>\n",
       "      <td>Lewistown</td>\n",
       "      <td>518 S Main St</td>\n",
       "      <td>1</td>\n",
       "      <td>0</td>\n",
       "      <td>0</td>\n",
       "      <td>0</td>\n",
       "      <td>1</td>\n",
       "      <td>NaN</td>\n",
       "    </tr>\n",
       "    <tr>\n",
       "      <th>2</th>\n",
       "      <td>3105718</td>\n",
       "      <td>December 31, 2024</td>\n",
       "      <td>Illinois</td>\n",
       "      <td>Chicago</td>\n",
       "      <td>7200 block of S Blackstone Ave</td>\n",
       "      <td>0</td>\n",
       "      <td>2</td>\n",
       "      <td>0</td>\n",
       "      <td>0</td>\n",
       "      <td>0</td>\n",
       "      <td>NaN</td>\n",
       "    </tr>\n",
       "  </tbody>\n",
       "</table>\n",
       "</div>"
      ],
      "text/plain": [
       "   Incident ID      Incident Date     State City Or County  \\\n",
       "0      3106259  December 31, 2024  Illinois        Chicago   \n",
       "1      3106276  December 31, 2024  Illinois      Lewistown   \n",
       "2      3105718  December 31, 2024  Illinois        Chicago   \n",
       "\n",
       "                          Address  Victims Killed  Victims Injured  \\\n",
       "0                1107 S Mozart St               0                1   \n",
       "1                   518 S Main St               1                0   \n",
       "2  7200 block of S Blackstone Ave               0                2   \n",
       "\n",
       "   Suspects Killed  Suspects Injured  Suspects Arrested  Operations  \n",
       "0                0                 0                  0         NaN  \n",
       "1                0                 0                  1         NaN  \n",
       "2                0                 0                  0         NaN  "
      ]
     },
     "execution_count": 4,
     "metadata": {},
     "output_type": "execute_result"
    }
   ],
   "source": [
    "df.head(3)"
   ]
  },
  {
   "cell_type": "code",
   "execution_count": 5,
   "id": "567b6e35-886c-436e-9ed5-da6c2b9f2f80",
   "metadata": {},
   "outputs": [
    {
     "data": {
      "text/plain": [
       "Incident ID            int64\n",
       "Incident Date         object\n",
       "State                 object\n",
       "City Or County        object\n",
       "Address               object\n",
       "Victims Killed         int64\n",
       "Victims Injured        int64\n",
       "Suspects Killed        int64\n",
       "Suspects Injured       int64\n",
       "Suspects Arrested      int64\n",
       "Operations           float64\n",
       "dtype: object"
      ]
     },
     "execution_count": 5,
     "metadata": {},
     "output_type": "execute_result"
    }
   ],
   "source": [
    "df.dtypes"
   ]
  },
  {
   "cell_type": "code",
   "execution_count": 6,
   "id": "8b40ced1-169d-42ab-8f04-cf7d70856cb8",
   "metadata": {},
   "outputs": [],
   "source": [
    "df['date'] = pd.to_datetime(df['Incident Date'], format = '%B %d, %Y', errors = 'coerce')"
   ]
  },
  {
   "cell_type": "code",
   "execution_count": 7,
   "id": "095191ae-4406-46fa-bd59-baf04a6e9457",
   "metadata": {},
   "outputs": [
    {
     "data": {
      "text/html": [
       "<div>\n",
       "<style scoped>\n",
       "    .dataframe tbody tr th:only-of-type {\n",
       "        vertical-align: middle;\n",
       "    }\n",
       "\n",
       "    .dataframe tbody tr th {\n",
       "        vertical-align: top;\n",
       "    }\n",
       "\n",
       "    .dataframe thead th {\n",
       "        text-align: right;\n",
       "    }\n",
       "</style>\n",
       "<table border=\"1\" class=\"dataframe\">\n",
       "  <thead>\n",
       "    <tr style=\"text-align: right;\">\n",
       "      <th></th>\n",
       "      <th>id</th>\n",
       "      <th>Incident Date</th>\n",
       "      <th>State</th>\n",
       "      <th>city</th>\n",
       "      <th>address</th>\n",
       "      <th>v_killed</th>\n",
       "      <th>v_injured</th>\n",
       "      <th>s_killed</th>\n",
       "      <th>s_injured</th>\n",
       "      <th>s_arrested</th>\n",
       "      <th>Operations</th>\n",
       "      <th>date</th>\n",
       "    </tr>\n",
       "  </thead>\n",
       "  <tbody>\n",
       "    <tr>\n",
       "      <th>0</th>\n",
       "      <td>3106259</td>\n",
       "      <td>December 31, 2024</td>\n",
       "      <td>Illinois</td>\n",
       "      <td>Chicago</td>\n",
       "      <td>1107 S Mozart St</td>\n",
       "      <td>0</td>\n",
       "      <td>1</td>\n",
       "      <td>0</td>\n",
       "      <td>0</td>\n",
       "      <td>0</td>\n",
       "      <td>NaN</td>\n",
       "      <td>2024-12-31</td>\n",
       "    </tr>\n",
       "    <tr>\n",
       "      <th>1</th>\n",
       "      <td>3106276</td>\n",
       "      <td>December 31, 2024</td>\n",
       "      <td>Illinois</td>\n",
       "      <td>Lewistown</td>\n",
       "      <td>518 S Main St</td>\n",
       "      <td>1</td>\n",
       "      <td>0</td>\n",
       "      <td>0</td>\n",
       "      <td>0</td>\n",
       "      <td>1</td>\n",
       "      <td>NaN</td>\n",
       "      <td>2024-12-31</td>\n",
       "    </tr>\n",
       "  </tbody>\n",
       "</table>\n",
       "</div>"
      ],
      "text/plain": [
       "        id      Incident Date     State       city           address  \\\n",
       "0  3106259  December 31, 2024  Illinois    Chicago  1107 S Mozart St   \n",
       "1  3106276  December 31, 2024  Illinois  Lewistown     518 S Main St   \n",
       "\n",
       "   v_killed  v_injured  s_killed  s_injured  s_arrested  Operations       date  \n",
       "0         0          1         0          0           0         NaN 2024-12-31  \n",
       "1         1          0         0          0           1         NaN 2024-12-31  "
      ]
     },
     "execution_count": 7,
     "metadata": {},
     "output_type": "execute_result"
    }
   ],
   "source": [
    "df = df.rename(columns={\n",
    "    'City Or County': 'city',\n",
    "    'Address': 'address',\n",
    "    'Victims Killed': 'v_killed',\n",
    "    'Victims Injured': 'v_injured',\n",
    "    'Suspects Killed': 's_killed',\n",
    "    'Suspects Injured': 's_injured',\n",
    "    'Suspects Arrested': 's_arrested',\n",
    "    'Incident ID': 'id'\n",
    "    })\n",
    "df.head(2)"
   ]
  },
  {
   "cell_type": "code",
   "execution_count": 8,
   "id": "3ffb9fc8-c3bd-45df-b81e-4c322eff6a76",
   "metadata": {},
   "outputs": [],
   "source": [
    "df['dow'] = df['date'].dt.day_name().str[:3]\n",
    "df['day'] = df['date'].dt.day\n",
    "df['month'] = df['date'].dt.month_name().str[:3]\n",
    "df['week'] = df['date'].dt.isocalendar().week\n",
    "df['t_kill'] = df['v_killed'] + df['s_killed']\n",
    "df['t_inj'] = df['v_injured'] + df['s_injured']\n",
    "df['total'] = df['t_inj'] + df['t_kill']"
   ]
  },
  {
   "cell_type": "code",
   "execution_count": 9,
   "id": "3dfe1514-d44d-423e-9a5f-bd9604bc82ed",
   "metadata": {},
   "outputs": [
    {
     "data": {
      "text/html": [
       "<div>\n",
       "<style scoped>\n",
       "    .dataframe tbody tr th:only-of-type {\n",
       "        vertical-align: middle;\n",
       "    }\n",
       "\n",
       "    .dataframe tbody tr th {\n",
       "        vertical-align: top;\n",
       "    }\n",
       "\n",
       "    .dataframe thead th {\n",
       "        text-align: right;\n",
       "    }\n",
       "</style>\n",
       "<table border=\"1\" class=\"dataframe\">\n",
       "  <thead>\n",
       "    <tr style=\"text-align: right;\">\n",
       "      <th></th>\n",
       "      <th>date</th>\n",
       "      <th>dow</th>\n",
       "      <th>day</th>\n",
       "      <th>month</th>\n",
       "      <th>week</th>\n",
       "      <th>city</th>\n",
       "      <th>address</th>\n",
       "      <th>v_killed</th>\n",
       "      <th>v_injured</th>\n",
       "      <th>s_killed</th>\n",
       "      <th>s_injured</th>\n",
       "      <th>s_arrested</th>\n",
       "      <th>t_kill</th>\n",
       "      <th>t_inj</th>\n",
       "      <th>total</th>\n",
       "      <th>id</th>\n",
       "    </tr>\n",
       "  </thead>\n",
       "  <tbody>\n",
       "    <tr>\n",
       "      <th>0</th>\n",
       "      <td>2024-12-31</td>\n",
       "      <td>Tue</td>\n",
       "      <td>31</td>\n",
       "      <td>Dec</td>\n",
       "      <td>1</td>\n",
       "      <td>Chicago</td>\n",
       "      <td>1107 S Mozart St</td>\n",
       "      <td>0</td>\n",
       "      <td>1</td>\n",
       "      <td>0</td>\n",
       "      <td>0</td>\n",
       "      <td>0</td>\n",
       "      <td>0</td>\n",
       "      <td>1</td>\n",
       "      <td>1</td>\n",
       "      <td>3106259</td>\n",
       "    </tr>\n",
       "    <tr>\n",
       "      <th>1</th>\n",
       "      <td>2024-12-31</td>\n",
       "      <td>Tue</td>\n",
       "      <td>31</td>\n",
       "      <td>Dec</td>\n",
       "      <td>1</td>\n",
       "      <td>Lewistown</td>\n",
       "      <td>518 S Main St</td>\n",
       "      <td>1</td>\n",
       "      <td>0</td>\n",
       "      <td>0</td>\n",
       "      <td>0</td>\n",
       "      <td>1</td>\n",
       "      <td>1</td>\n",
       "      <td>0</td>\n",
       "      <td>1</td>\n",
       "      <td>3106276</td>\n",
       "    </tr>\n",
       "  </tbody>\n",
       "</table>\n",
       "</div>"
      ],
      "text/plain": [
       "        date  dow  day month  week       city           address  v_killed  \\\n",
       "0 2024-12-31  Tue   31   Dec     1    Chicago  1107 S Mozart St         0   \n",
       "1 2024-12-31  Tue   31   Dec     1  Lewistown     518 S Main St         1   \n",
       "\n",
       "   v_injured  s_killed  s_injured  s_arrested  t_kill  t_inj  total       id  \n",
       "0          1         0          0           0       0      1      1  3106259  \n",
       "1          0         0          0           1       1      0      1  3106276  "
      ]
     },
     "execution_count": 9,
     "metadata": {},
     "output_type": "execute_result"
    }
   ],
   "source": [
    "df = df[[ 'date', 'dow','day', 'month', 'week','city', 'address', 'v_killed',\n",
    "       'v_injured', 's_killed', 's_injured', 's_arrested', 't_kill', 't_inj', 'total', 'id']]\n",
    "df.head(2)"
   ]
  },
  {
   "cell_type": "markdown",
   "id": "a1ea5a69-e6ea-4b43-bbc4-2e916db61fe5",
   "metadata": {},
   "source": [
    "## Largest Shooting Incidents in the State in 2024"
   ]
  },
  {
   "cell_type": "code",
   "execution_count": 10,
   "id": "f2e7b6dd-fab1-4316-b999-7805c88faad7",
   "metadata": {},
   "outputs": [
    {
     "data": {
      "text/html": [
       "<div>\n",
       "<style scoped>\n",
       "    .dataframe tbody tr th:only-of-type {\n",
       "        vertical-align: middle;\n",
       "    }\n",
       "\n",
       "    .dataframe tbody tr th {\n",
       "        vertical-align: top;\n",
       "    }\n",
       "\n",
       "    .dataframe thead th {\n",
       "        text-align: right;\n",
       "    }\n",
       "</style>\n",
       "<table border=\"1\" class=\"dataframe\">\n",
       "  <thead>\n",
       "    <tr style=\"text-align: right;\">\n",
       "      <th></th>\n",
       "      <th>date</th>\n",
       "      <th>dow</th>\n",
       "      <th>day</th>\n",
       "      <th>month</th>\n",
       "      <th>week</th>\n",
       "      <th>city</th>\n",
       "      <th>address</th>\n",
       "      <th>v_killed</th>\n",
       "      <th>v_injured</th>\n",
       "      <th>s_killed</th>\n",
       "      <th>s_injured</th>\n",
       "      <th>s_arrested</th>\n",
       "      <th>t_kill</th>\n",
       "      <th>t_inj</th>\n",
       "      <th>total</th>\n",
       "      <th>id</th>\n",
       "    </tr>\n",
       "  </thead>\n",
       "  <tbody>\n",
       "    <tr>\n",
       "      <th>0</th>\n",
       "      <td>2024-11-24</td>\n",
       "      <td>Sun</td>\n",
       "      <td>24</td>\n",
       "      <td>Nov</td>\n",
       "      <td>47</td>\n",
       "      <td>Venice</td>\n",
       "      <td>1426 Broadway</td>\n",
       "      <td>0</td>\n",
       "      <td>12</td>\n",
       "      <td>0</td>\n",
       "      <td>0</td>\n",
       "      <td>1</td>\n",
       "      <td>0</td>\n",
       "      <td>12</td>\n",
       "      <td>12</td>\n",
       "      <td>3115822</td>\n",
       "    </tr>\n",
       "    <tr>\n",
       "      <th>1</th>\n",
       "      <td>2024-04-13</td>\n",
       "      <td>Sat</td>\n",
       "      <td>13</td>\n",
       "      <td>Apr</td>\n",
       "      <td>15</td>\n",
       "      <td>Chicago</td>\n",
       "      <td>2021 W 52nd St</td>\n",
       "      <td>1</td>\n",
       "      <td>10</td>\n",
       "      <td>0</td>\n",
       "      <td>0</td>\n",
       "      <td>1</td>\n",
       "      <td>1</td>\n",
       "      <td>10</td>\n",
       "      <td>11</td>\n",
       "      <td>2879189</td>\n",
       "    </tr>\n",
       "    <tr>\n",
       "      <th>2</th>\n",
       "      <td>2024-01-21</td>\n",
       "      <td>Sun</td>\n",
       "      <td>21</td>\n",
       "      <td>Jan</td>\n",
       "      <td>3</td>\n",
       "      <td>Joliet</td>\n",
       "      <td>200 block of Davis St</td>\n",
       "      <td>8</td>\n",
       "      <td>1</td>\n",
       "      <td>1</td>\n",
       "      <td>0</td>\n",
       "      <td>1</td>\n",
       "      <td>9</td>\n",
       "      <td>1</td>\n",
       "      <td>10</td>\n",
       "      <td>2808531</td>\n",
       "    </tr>\n",
       "    <tr>\n",
       "      <th>3</th>\n",
       "      <td>2024-12-02</td>\n",
       "      <td>Mon</td>\n",
       "      <td>2</td>\n",
       "      <td>Dec</td>\n",
       "      <td>49</td>\n",
       "      <td>Chicago</td>\n",
       "      <td>3511 W 59th St</td>\n",
       "      <td>3</td>\n",
       "      <td>5</td>\n",
       "      <td>0</td>\n",
       "      <td>0</td>\n",
       "      <td>2</td>\n",
       "      <td>3</td>\n",
       "      <td>5</td>\n",
       "      <td>8</td>\n",
       "      <td>3085310</td>\n",
       "    </tr>\n",
       "    <tr>\n",
       "      <th>4</th>\n",
       "      <td>2024-07-05</td>\n",
       "      <td>Fri</td>\n",
       "      <td>5</td>\n",
       "      <td>Jul</td>\n",
       "      <td>27</td>\n",
       "      <td>Chicago</td>\n",
       "      <td>1300 block of W Hastings St</td>\n",
       "      <td>0</td>\n",
       "      <td>8</td>\n",
       "      <td>0</td>\n",
       "      <td>0</td>\n",
       "      <td>0</td>\n",
       "      <td>0</td>\n",
       "      <td>8</td>\n",
       "      <td>8</td>\n",
       "      <td>2959241</td>\n",
       "    </tr>\n",
       "    <tr>\n",
       "      <th>5</th>\n",
       "      <td>2024-09-21</td>\n",
       "      <td>Sat</td>\n",
       "      <td>21</td>\n",
       "      <td>Sep</td>\n",
       "      <td>38</td>\n",
       "      <td>Chicago</td>\n",
       "      <td>2500 block of S Spaulding Ave</td>\n",
       "      <td>1</td>\n",
       "      <td>6</td>\n",
       "      <td>0</td>\n",
       "      <td>0</td>\n",
       "      <td>0</td>\n",
       "      <td>1</td>\n",
       "      <td>6</td>\n",
       "      <td>7</td>\n",
       "      <td>3030761</td>\n",
       "    </tr>\n",
       "    <tr>\n",
       "      <th>6</th>\n",
       "      <td>2024-07-05</td>\n",
       "      <td>Fri</td>\n",
       "      <td>5</td>\n",
       "      <td>Jul</td>\n",
       "      <td>27</td>\n",
       "      <td>Chicago</td>\n",
       "      <td>100 block of S Menard Ave</td>\n",
       "      <td>1</td>\n",
       "      <td>6</td>\n",
       "      <td>0</td>\n",
       "      <td>0</td>\n",
       "      <td>0</td>\n",
       "      <td>1</td>\n",
       "      <td>6</td>\n",
       "      <td>7</td>\n",
       "      <td>2959290</td>\n",
       "    </tr>\n",
       "    <tr>\n",
       "      <th>7</th>\n",
       "      <td>2024-06-17</td>\n",
       "      <td>Mon</td>\n",
       "      <td>17</td>\n",
       "      <td>Jun</td>\n",
       "      <td>25</td>\n",
       "      <td>Chicago</td>\n",
       "      <td>6000 block of S Winchester Ave</td>\n",
       "      <td>0</td>\n",
       "      <td>7</td>\n",
       "      <td>0</td>\n",
       "      <td>0</td>\n",
       "      <td>0</td>\n",
       "      <td>0</td>\n",
       "      <td>7</td>\n",
       "      <td>7</td>\n",
       "      <td>2941749</td>\n",
       "    </tr>\n",
       "    <tr>\n",
       "      <th>8</th>\n",
       "      <td>2024-02-11</td>\n",
       "      <td>Sun</td>\n",
       "      <td>11</td>\n",
       "      <td>Feb</td>\n",
       "      <td>6</td>\n",
       "      <td>Chicago</td>\n",
       "      <td>W 30th St and S St Louis Ave</td>\n",
       "      <td>0</td>\n",
       "      <td>7</td>\n",
       "      <td>0</td>\n",
       "      <td>0</td>\n",
       "      <td>0</td>\n",
       "      <td>0</td>\n",
       "      <td>7</td>\n",
       "      <td>7</td>\n",
       "      <td>2825493</td>\n",
       "    </tr>\n",
       "    <tr>\n",
       "      <th>9</th>\n",
       "      <td>2024-08-20</td>\n",
       "      <td>Tue</td>\n",
       "      <td>20</td>\n",
       "      <td>Aug</td>\n",
       "      <td>34</td>\n",
       "      <td>Chicago</td>\n",
       "      <td>51st St and Ashland Ave</td>\n",
       "      <td>1</td>\n",
       "      <td>5</td>\n",
       "      <td>0</td>\n",
       "      <td>0</td>\n",
       "      <td>0</td>\n",
       "      <td>1</td>\n",
       "      <td>5</td>\n",
       "      <td>6</td>\n",
       "      <td>3000990</td>\n",
       "    </tr>\n",
       "  </tbody>\n",
       "</table>\n",
       "</div>"
      ],
      "text/plain": [
       "        date  dow  day month  week     city                         address  \\\n",
       "0 2024-11-24  Sun   24   Nov    47   Venice                   1426 Broadway   \n",
       "1 2024-04-13  Sat   13   Apr    15  Chicago                  2021 W 52nd St   \n",
       "2 2024-01-21  Sun   21   Jan     3   Joliet           200 block of Davis St   \n",
       "3 2024-12-02  Mon    2   Dec    49  Chicago                  3511 W 59th St   \n",
       "4 2024-07-05  Fri    5   Jul    27  Chicago     1300 block of W Hastings St   \n",
       "5 2024-09-21  Sat   21   Sep    38  Chicago   2500 block of S Spaulding Ave   \n",
       "6 2024-07-05  Fri    5   Jul    27  Chicago       100 block of S Menard Ave   \n",
       "7 2024-06-17  Mon   17   Jun    25  Chicago  6000 block of S Winchester Ave   \n",
       "8 2024-02-11  Sun   11   Feb     6  Chicago    W 30th St and S St Louis Ave   \n",
       "9 2024-08-20  Tue   20   Aug    34  Chicago         51st St and Ashland Ave   \n",
       "\n",
       "   v_killed  v_injured  s_killed  s_injured  s_arrested  t_kill  t_inj  total  \\\n",
       "0         0         12         0          0           1       0     12     12   \n",
       "1         1         10         0          0           1       1     10     11   \n",
       "2         8          1         1          0           1       9      1     10   \n",
       "3         3          5         0          0           2       3      5      8   \n",
       "4         0          8         0          0           0       0      8      8   \n",
       "5         1          6         0          0           0       1      6      7   \n",
       "6         1          6         0          0           0       1      6      7   \n",
       "7         0          7         0          0           0       0      7      7   \n",
       "8         0          7         0          0           0       0      7      7   \n",
       "9         1          5         0          0           0       1      5      6   \n",
       "\n",
       "        id  \n",
       "0  3115822  \n",
       "1  2879189  \n",
       "2  2808531  \n",
       "3  3085310  \n",
       "4  2959241  \n",
       "5  3030761  \n",
       "6  2959290  \n",
       "7  2941749  \n",
       "8  2825493  \n",
       "9  3000990  "
      ]
     },
     "execution_count": 10,
     "metadata": {},
     "output_type": "execute_result"
    }
   ],
   "source": [
    "df.nlargest(10, 'total').reset_index(drop=True)"
   ]
  },
  {
   "cell_type": "markdown",
   "id": "85abf2c0-84ce-4bf8-bb41-ea872ac4a3f0",
   "metadata": {},
   "source": [
    "## Shooting Incidents over the Calendar Year - 2024"
   ]
  },
  {
   "cell_type": "code",
   "execution_count": 11,
   "id": "3c7a0c36-db95-40f6-9e55-1d75515b3b08",
   "metadata": {},
   "outputs": [],
   "source": [
    "day_colours = {\n",
    "    \"Mon\": \"#a2bffe\",  # pastel blue\n",
    "    \"Tue\": \"#7af9ab\",  # Sea Foam Green\n",
    "    \"Wed\": \"#ffff14\",  # Yellow\n",
    "    \"Thu\": \"#fdaa48\",  # Light Orange    \n",
    "    \"Fri\": \"#ff474c\",  # Light Red\n",
    "    \"Sat\": \"#910951\",  # Reddish Purple\n",
    "    \"Sun\": \"#632de9\",  # Purple Blue\n",
    "}"
   ]
  },
  {
   "cell_type": "code",
   "execution_count": 12,
   "id": "fd1d647a-aa72-4a63-8cc0-d9391e4c421a",
   "metadata": {},
   "outputs": [],
   "source": [
    "month_colours = {\n",
    "    \"Jan\": \"#4C72B0\", \"Feb\": \"#6BAED6\", \"Mar\": \"#9ECAE1\",\n",
    "    \"Apr\": \"#41AB5D\", \"May\": \"#74C476\", \"Jun\": \"#A1D99B\",\n",
    "    \"Jul\": \"#FEC44F\", \"Aug\": \"#FE9929\", \"Sep\": \"#EC7014\",\n",
    "    \"Oct\": \"#E6550D\", \"Nov\": \"#A63603\", \"Dec\": \"#756BB1\"\n",
    "}"
   ]
  },
  {
   "cell_type": "code",
   "execution_count": 14,
   "id": "b04869af-7b82-43c9-b355-c295742d6a99",
   "metadata": {},
   "outputs": [
    {
     "data": {
      "text/plain": [
       "Text(0.5, 0, 'Month')"
      ]
     },
     "execution_count": 14,
     "metadata": {},
     "output_type": "execute_result"
    },
    {
     "data": {
      "image/png": "[encoded data removed]",
      "text/plain": [
       "<Figure size 1200x300 with 2 Axes>"
      ]
     },
     "metadata": {},
     "output_type": "display_data"
    }
   ],
   "source": [
    "# Set up the matplotlib figure\n",
    "f, (ax1, ax2) = plt.subplots(1, 2, figsize=(12, 3), sharey=True)\n",
    "\n",
    "sns.countplot(df, x='dow', ax=ax1, palette = day_colours, hue='dow',\n",
    "              order=['Mon', 'Tue', 'Wed', 'Thu', 'Fri', 'Sat', 'Sun']\n",
    "             ).set_title('Shooting Incident by Day of the Week (' + scope + ')')\n",
    "ax1.set_xlabel(\"Day of the Week\")\n",
    "\n",
    "sns.countplot(df, x='month', ax=ax2,palette = month_colours, hue='month',\n",
    "              order=['Jan', 'Feb', 'Mar', 'Apr', 'May', 'Jun', 'Jul','Aug','Sep','Oct','Nov', 'Dec']\n",
    "             ).set_title('Shooting Incident by Month (' + scope + ')')\n",
    "ax2.set_xlabel(\"Month\")\n",
    "#plt.set_title('Mass Shooting Incident by Day of the Week & Month (\\'14-\\'24)')\n"
   ]
  },
  {
   "cell_type": "markdown",
   "id": "df9f1e7b-da34-48d1-a674-af23870fb83c",
   "metadata": {},
   "source": [
    "**Day of the Week:** For all shooting incidents we see the same kind of pattern over the week as we saw with the national level data for MSI over 10 years, with most occuring over the weekend with Sunday being the most frequent day."
   ]
  },
  {
   "cell_type": "markdown",
   "id": "0ecca853-a805-47de-b3ef-25b8a1184286",
   "metadata": {},
   "source": [
    "**Month of the Year:** Here we see that for shooting incidents in 2024 follows the general pattern we saw for MSI, with more in the summer months, although the highest month was June and not July here."
   ]
  },
  {
   "cell_type": "code",
   "execution_count": 15,
   "id": "d6707236-3a24-4dbd-9eb0-be147dbc3b2d",
   "metadata": {},
   "outputs": [
    {
     "data": {
      "text/plain": [
       "Text(0.5, 1.0, 'Shooting Incident by Week (Illinois, 2024)')"
      ]
     },
     "execution_count": 15,
     "metadata": {},
     "output_type": "execute_result"
    },
    {
     "data": {
      "image/png": "[encoded data removed]",
      "text/plain": [
       "<Figure size 1200x300 with 1 Axes>"
      ]
     },
     "metadata": {},
     "output_type": "display_data"
    }
   ],
   "source": [
    "sns.set_theme()\n",
    "plt.figure(figsize=(12,3))\n",
    "sns.countplot(df, x='week', order=range(1,53), legend=False,).set_title('Shooting Incident by Week (' + scope + ')')"
   ]
  },
  {
   "cell_type": "code",
   "execution_count": 16,
   "id": "ce8e135d-6c90-42cf-950e-81233d04986d",
   "metadata": {},
   "outputs": [
    {
     "data": {
      "text/plain": [
       "Text(0.5, 1.0, 'Shooting Incident by Day of Month (Illinois, 2024)')"
      ]
     },
     "execution_count": 16,
     "metadata": {},
     "output_type": "execute_result"
    },
    {
     "data": {
      "image/png": "[encoded data removed]",
      "text/plain": [
       "<Figure size 800x300 with 1 Axes>"
      ]
     },
     "metadata": {},
     "output_type": "display_data"
    }
   ],
   "source": [
    "sns.set_theme()\n",
    "plt.figure(figsize=(8,3))\n",
    "\n",
    "all_days = sorted(df['day'].unique())\n",
    "highlight_day = 31    \n",
    "base_color = '#6a79f7'       # Cornflower Blue\n",
    "highlight_color = \"#7ef4cc\" # Turquoise\n",
    "\n",
    "day_palette = {day: base_color for day in all_days}\n",
    "day_palette[highlight_day] = highlight_color\n",
    "#day_palette[4] = '#0652ff' # Electric Blue\n",
    "day_palette[5] = '#0504aa' #Royal Blue\n",
    "\n",
    "sns.countplot(df, x='day', order=range(1,32), palette=day_palette, hue = 'day', legend=False,).set_title('Shooting Incident by Day of Month (' + scope + ')')"
   ]
  },
  {
   "cell_type": "markdown",
   "id": "d50ae18e-b93d-4820-978b-a051efb6c596",
   "metadata": {},
   "source": [
    "* N.B. Again the 31st has the fewest number of incidents due to there being fewer 31sts than any other date.\n",
    "* In Illinois in 2024 there were the highest number of shootings on the 5th of the month. In the 10 year span of MSI data, the 4th was the date with most mass shooting incidents, due to the 4th of July (and 5th second), let's have a look at the actual calendar dates in 2024 to see if there is any particular spike on one day that year."
   ]
  },
  {
   "cell_type": "markdown",
   "id": "559867e6-c0b7-4848-a40c-e0f8ced379cb",
   "metadata": {},
   "source": [
    "## Days of Rage - Dates of 2024 with the highest number of Shooting Incidents in the State"
   ]
  },
  {
   "cell_type": "code",
   "execution_count": 17,
   "id": "5c7c2d88-2e85-40cd-9d79-261f5b80f75a",
   "metadata": {},
   "outputs": [
    {
     "data": {
      "text/html": [
       "<div>\n",
       "<style scoped>\n",
       "    .dataframe tbody tr th:only-of-type {\n",
       "        vertical-align: middle;\n",
       "    }\n",
       "\n",
       "    .dataframe tbody tr th {\n",
       "        vertical-align: top;\n",
       "    }\n",
       "\n",
       "    .dataframe thead th {\n",
       "        text-align: right;\n",
       "    }\n",
       "</style>\n",
       "<table border=\"1\" class=\"dataframe\">\n",
       "  <thead>\n",
       "    <tr style=\"text-align: right;\">\n",
       "      <th></th>\n",
       "      <th>day</th>\n",
       "      <th>month</th>\n",
       "      <th>dow</th>\n",
       "      <th>no_inc</th>\n",
       "      <th>total_inj</th>\n",
       "      <th>total_kld</th>\n",
       "      <th>total_inj_kill</th>\n",
       "    </tr>\n",
       "  </thead>\n",
       "  <tbody>\n",
       "    <tr>\n",
       "      <th>0</th>\n",
       "      <td>5</td>\n",
       "      <td>Jul</td>\n",
       "      <td>Fri</td>\n",
       "      <td>34</td>\n",
       "      <td>49</td>\n",
       "      <td>10</td>\n",
       "      <td>59</td>\n",
       "    </tr>\n",
       "    <tr>\n",
       "      <th>1</th>\n",
       "      <td>16</td>\n",
       "      <td>Jun</td>\n",
       "      <td>Sun</td>\n",
       "      <td>25</td>\n",
       "      <td>25</td>\n",
       "      <td>8</td>\n",
       "      <td>33</td>\n",
       "    </tr>\n",
       "    <tr>\n",
       "      <th>2</th>\n",
       "      <td>9</td>\n",
       "      <td>Jun</td>\n",
       "      <td>Sun</td>\n",
       "      <td>24</td>\n",
       "      <td>22</td>\n",
       "      <td>6</td>\n",
       "      <td>28</td>\n",
       "    </tr>\n",
       "    <tr>\n",
       "      <th>3</th>\n",
       "      <td>17</td>\n",
       "      <td>Jun</td>\n",
       "      <td>Mon</td>\n",
       "      <td>22</td>\n",
       "      <td>35</td>\n",
       "      <td>4</td>\n",
       "      <td>39</td>\n",
       "    </tr>\n",
       "    <tr>\n",
       "      <th>4</th>\n",
       "      <td>23</td>\n",
       "      <td>Jun</td>\n",
       "      <td>Sun</td>\n",
       "      <td>21</td>\n",
       "      <td>22</td>\n",
       "      <td>5</td>\n",
       "      <td>27</td>\n",
       "    </tr>\n",
       "    <tr>\n",
       "      <th>5</th>\n",
       "      <td>19</td>\n",
       "      <td>May</td>\n",
       "      <td>Sun</td>\n",
       "      <td>20</td>\n",
       "      <td>25</td>\n",
       "      <td>1</td>\n",
       "      <td>26</td>\n",
       "    </tr>\n",
       "    <tr>\n",
       "      <th>6</th>\n",
       "      <td>3</td>\n",
       "      <td>Aug</td>\n",
       "      <td>Sat</td>\n",
       "      <td>19</td>\n",
       "      <td>22</td>\n",
       "      <td>5</td>\n",
       "      <td>27</td>\n",
       "    </tr>\n",
       "    <tr>\n",
       "      <th>7</th>\n",
       "      <td>4</td>\n",
       "      <td>May</td>\n",
       "      <td>Sat</td>\n",
       "      <td>19</td>\n",
       "      <td>12</td>\n",
       "      <td>8</td>\n",
       "      <td>20</td>\n",
       "    </tr>\n",
       "    <tr>\n",
       "      <th>8</th>\n",
       "      <td>6</td>\n",
       "      <td>Jul</td>\n",
       "      <td>Sat</td>\n",
       "      <td>19</td>\n",
       "      <td>15</td>\n",
       "      <td>6</td>\n",
       "      <td>21</td>\n",
       "    </tr>\n",
       "    <tr>\n",
       "      <th>9</th>\n",
       "      <td>7</td>\n",
       "      <td>Jul</td>\n",
       "      <td>Sun</td>\n",
       "      <td>19</td>\n",
       "      <td>23</td>\n",
       "      <td>7</td>\n",
       "      <td>30</td>\n",
       "    </tr>\n",
       "  </tbody>\n",
       "</table>\n",
       "</div>"
      ],
      "text/plain": [
       "   day month  dow  no_inc  total_inj  total_kld  total_inj_kill\n",
       "0    5   Jul  Fri      34         49         10              59\n",
       "1   16   Jun  Sun      25         25          8              33\n",
       "2    9   Jun  Sun      24         22          6              28\n",
       "3   17   Jun  Mon      22         35          4              39\n",
       "4   23   Jun  Sun      21         22          5              27\n",
       "5   19   May  Sun      20         25          1              26\n",
       "6    3   Aug  Sat      19         22          5              27\n",
       "7    4   May  Sat      19         12          8              20\n",
       "8    6   Jul  Sat      19         15          6              21\n",
       "9    7   Jul  Sun      19         23          7              30"
      ]
     },
     "execution_count": 17,
     "metadata": {},
     "output_type": "execute_result"
    }
   ],
   "source": [
    "rage_days = df.groupby(['day','month','dow']).agg(\n",
    "    no_inc = pd.NamedAgg(column=\"t_kill\", aggfunc=\"count\"),\n",
    "    total_inj = pd.NamedAgg(column=\"t_inj\", aggfunc=\"sum\"),\n",
    "    total_kld = pd.NamedAgg(column=\"t_kill\", aggfunc=\"sum\"), \n",
    "    total_inj_kill = pd.NamedAgg(column=\"total\", aggfunc=\"sum\")\n",
    ").reset_index()\n",
    "rage_days.nlargest(10, 'no_inc').reset_index(drop=True)"
   ]
  },
  {
   "cell_type": "markdown",
   "id": "a8fc04bc-1e9b-4244-9bae-f314de07411d",
   "metadata": {},
   "source": [
    "**Day of the Year:** In 2024 in the state of Illinois, there were the highest number of shooting incidents on the 5th July, while the 4th of July doesn't appear in the top 10 yet the 6th and 7th of July do (positions 9 and 10). As Independence Day fell on a Thursday in 2024, it would appear that the 'celebrations' continued over the long weekend, into Friday (5th) and Saturday and Sunday (6th & 7th).It's somewhat harder to explain why the 5th of July had so many more incidents than the other highest days, so could be an area for further investigation to see if this could be explained by gang-related shootings and reprisals for example.  "
   ]
  },
  {
   "cell_type": "code",
   "execution_count": 18,
   "id": "65bb7e08-26a1-4149-8282-53c1bf7614d0",
   "metadata": {},
   "outputs": [
    {
     "data": {
      "text/plain": [
       "365"
      ]
     },
     "execution_count": 18,
     "metadata": {},
     "output_type": "execute_result"
    }
   ],
   "source": [
    "len(rage_days) # Check total of days that included a shooting incident as data started from incidents not dates."
   ]
  },
  {
   "cell_type": "code",
   "execution_count": 35,
   "id": "1dd719b2-fd3e-4574-9c92-9ed75bd45238",
   "metadata": {},
   "outputs": [
    {
     "data": {
      "text/plain": [
       "Text(0.5, 0, 'Total Number of Incidents in a Day')"
      ]
     },
     "execution_count": 35,
     "metadata": {},
     "output_type": "execute_result"
    },
    {
     "data": {
      "image/png": "[encoded data removed]",
      "text/plain": [
       "<Figure size 800x300 with 1 Axes>"
      ]
     },
     "metadata": {},
     "output_type": "display_data"
    }
   ],
   "source": [
    "sns.set_theme()\n",
    "plt.figure(figsize=(8,3))\n",
    "sns.countplot(rage_days, x='no_inc',order=range(0,35)).set_title('Total Number of Shooting Incidents per Day (' + scope + ')')\n",
    "plt.xlabel ('Total Number of Incidents in a Day')"
   ]
  },
  {
   "cell_type": "markdown",
   "id": "9779bbaf-bf38-43bb-a505-fd577de623e4",
   "metadata": {},
   "source": [
    "* The distribution of the number of incidents in a day has a pretty curious shape for Illinois. If we compare it to that of California which has a similar overall number of shootings, we can see that the distribution for California is much more 'normal'. I think this may be due to the seasonal differences, as we can see from the monthly charts that the incidents in California are spread more evenly over the 12 months whereas Illinois has a much clearer peak in the summer months and fewer incidents in the winter months. This may explain the curious shape of the distribution as it is actally formed from 2 different more normal distributions with one stacked upon the other. Let's see if we can visualise this by splitting the dataset into two periods... "
   ]
  },
  {
   "cell_type": "code",
   "execution_count": 39,
   "id": "1cd66e75-af2a-41dd-9488-2d01f361062c",
   "metadata": {},
   "outputs": [],
   "source": [
    "winter = rage_days[(rage_days.month == 'Jan')|(rage_days.month=='Feb')|(rage_days.month == 'Mar')|(rage_days.month == 'Apr')|\\\n",
    "                    (rage_days.month == 'Nov')|(rage_days.month == 'Dec')]\n",
    "summer = rage_days[(rage_days.month == 'Oct')|(rage_days.month=='May')|(rage_days.month == 'Jun')|(rage_days.month == 'Jul')|\\\n",
    "                    (rage_days.month == 'Aug')|(rage_days.month == 'Sept')]"
   ]
  },
  {
   "cell_type": "code",
   "execution_count": 40,
   "id": "78309869-f7f9-47fc-a6d8-639590122b57",
   "metadata": {},
   "outputs": [
    {
     "data": {
      "text/plain": [
       "Text(0.5, 0, 'Summer Months')"
      ]
     },
     "execution_count": 40,
     "metadata": {},
     "output_type": "execute_result"
    },
    {
     "data": {
      "image/png": "[encoded data removed]",
      "text/plain": [
       "<Figure size 1200x300 with 2 Axes>"
      ]
     },
     "metadata": {},
     "output_type": "display_data"
    }
   ],
   "source": [
    "f, (ax1, ax2) = plt.subplots(1, 2, figsize=(12, 3), sharey=True)\n",
    "sns.countplot(winter, x='no_inc',order=range(0,26), ax=ax1).set_title('Incidents per Day - Winter Months (' + scope + ')')\n",
    "sns.countplot(summer, x='no_inc',order=range(0,26), ax=ax2).set_title('Incidents per Day - Summer Months (' + scope + ')')\n",
    "ax1.set_xlabel(\"Winter Months\")\n",
    "ax2.set_xlabel(\"Summer Months\")"
   ]
  },
  {
   "cell_type": "markdown",
   "id": "eb8880c8-f3f8-4b5d-8455-41e261344b1b",
   "metadata": {},
   "source": [
    "* By spliting the year into two periods we begin to get a clearer picture of how the overall distribution came about, **both charts show the right skew we would expect from incidence counts due to being bound at 0** (we can't have negative incidents), and **right-skewed with a long tail to the right**, which gives the overall distribution its distinctive shape.\n",
    "* The shape **resembles the poisson distribution**, which we could have anticipated due to it's association with incidence counts, characterised by a convex left hand side, like a normal distribution, but then a **concave right hand side with a long tail to more extreme higher values**."
   ]
  },
  {
   "cell_type": "markdown",
   "id": "05057efb-724f-403f-b429-f2eb2bcfc3df",
   "metadata": {},
   "source": [
    "# Review of the 5ths of Each Month"
   ]
  },
  {
   "cell_type": "code",
   "execution_count": 41,
   "id": "c40b0386-8889-42fe-a0fd-2be2817706d5",
   "metadata": {},
   "outputs": [
    {
     "data": {
      "text/html": [
       "<div>\n",
       "<style scoped>\n",
       "    .dataframe tbody tr th:only-of-type {\n",
       "        vertical-align: middle;\n",
       "    }\n",
       "\n",
       "    .dataframe tbody tr th {\n",
       "        vertical-align: top;\n",
       "    }\n",
       "\n",
       "    .dataframe thead th {\n",
       "        text-align: right;\n",
       "    }\n",
       "</style>\n",
       "<table border=\"1\" class=\"dataframe\">\n",
       "  <thead>\n",
       "    <tr style=\"text-align: right;\">\n",
       "      <th></th>\n",
       "      <th>day</th>\n",
       "      <th>month</th>\n",
       "      <th>dow</th>\n",
       "      <th>no_inc</th>\n",
       "      <th>total_inj</th>\n",
       "      <th>total_kld</th>\n",
       "      <th>total_inj_kill</th>\n",
       "    </tr>\n",
       "  </thead>\n",
       "  <tbody>\n",
       "    <tr>\n",
       "      <th>52</th>\n",
       "      <td>5</td>\n",
       "      <td>Jan</td>\n",
       "      <td>Fri</td>\n",
       "      <td>6</td>\n",
       "      <td>6</td>\n",
       "      <td>0</td>\n",
       "      <td>6</td>\n",
       "    </tr>\n",
       "    <tr>\n",
       "      <th>51</th>\n",
       "      <td>5</td>\n",
       "      <td>Feb</td>\n",
       "      <td>Mon</td>\n",
       "      <td>5</td>\n",
       "      <td>5</td>\n",
       "      <td>0</td>\n",
       "      <td>5</td>\n",
       "    </tr>\n",
       "    <tr>\n",
       "      <th>55</th>\n",
       "      <td>5</td>\n",
       "      <td>Mar</td>\n",
       "      <td>Tue</td>\n",
       "      <td>5</td>\n",
       "      <td>4</td>\n",
       "      <td>2</td>\n",
       "      <td>6</td>\n",
       "    </tr>\n",
       "    <tr>\n",
       "      <th>48</th>\n",
       "      <td>5</td>\n",
       "      <td>Apr</td>\n",
       "      <td>Fri</td>\n",
       "      <td>8</td>\n",
       "      <td>8</td>\n",
       "      <td>1</td>\n",
       "      <td>9</td>\n",
       "    </tr>\n",
       "    <tr>\n",
       "      <th>56</th>\n",
       "      <td>5</td>\n",
       "      <td>May</td>\n",
       "      <td>Sun</td>\n",
       "      <td>14</td>\n",
       "      <td>16</td>\n",
       "      <td>5</td>\n",
       "      <td>21</td>\n",
       "    </tr>\n",
       "    <tr>\n",
       "      <th>54</th>\n",
       "      <td>5</td>\n",
       "      <td>Jun</td>\n",
       "      <td>Wed</td>\n",
       "      <td>8</td>\n",
       "      <td>6</td>\n",
       "      <td>3</td>\n",
       "      <td>9</td>\n",
       "    </tr>\n",
       "    <tr>\n",
       "      <th>53</th>\n",
       "      <td>5</td>\n",
       "      <td>Jul</td>\n",
       "      <td>Fri</td>\n",
       "      <td>34</td>\n",
       "      <td>49</td>\n",
       "      <td>10</td>\n",
       "      <td>59</td>\n",
       "    </tr>\n",
       "    <tr>\n",
       "      <th>49</th>\n",
       "      <td>5</td>\n",
       "      <td>Aug</td>\n",
       "      <td>Mon</td>\n",
       "      <td>11</td>\n",
       "      <td>12</td>\n",
       "      <td>2</td>\n",
       "      <td>14</td>\n",
       "    </tr>\n",
       "    <tr>\n",
       "      <th>59</th>\n",
       "      <td>5</td>\n",
       "      <td>Sep</td>\n",
       "      <td>Thu</td>\n",
       "      <td>9</td>\n",
       "      <td>5</td>\n",
       "      <td>4</td>\n",
       "      <td>9</td>\n",
       "    </tr>\n",
       "    <tr>\n",
       "      <th>58</th>\n",
       "      <td>5</td>\n",
       "      <td>Oct</td>\n",
       "      <td>Sat</td>\n",
       "      <td>16</td>\n",
       "      <td>9</td>\n",
       "      <td>7</td>\n",
       "      <td>16</td>\n",
       "    </tr>\n",
       "    <tr>\n",
       "      <th>57</th>\n",
       "      <td>5</td>\n",
       "      <td>Nov</td>\n",
       "      <td>Tue</td>\n",
       "      <td>4</td>\n",
       "      <td>2</td>\n",
       "      <td>3</td>\n",
       "      <td>5</td>\n",
       "    </tr>\n",
       "    <tr>\n",
       "      <th>50</th>\n",
       "      <td>5</td>\n",
       "      <td>Dec</td>\n",
       "      <td>Thu</td>\n",
       "      <td>5</td>\n",
       "      <td>6</td>\n",
       "      <td>0</td>\n",
       "      <td>6</td>\n",
       "    </tr>\n",
       "  </tbody>\n",
       "</table>\n",
       "</div>"
      ],
      "text/plain": [
       "    day month  dow  no_inc  total_inj  total_kld  total_inj_kill\n",
       "52    5   Jan  Fri       6          6          0               6\n",
       "51    5   Feb  Mon       5          5          0               5\n",
       "55    5   Mar  Tue       5          4          2               6\n",
       "48    5   Apr  Fri       8          8          1               9\n",
       "56    5   May  Sun      14         16          5              21\n",
       "54    5   Jun  Wed       8          6          3               9\n",
       "53    5   Jul  Fri      34         49         10              59\n",
       "49    5   Aug  Mon      11         12          2              14\n",
       "59    5   Sep  Thu       9          5          4               9\n",
       "58    5   Oct  Sat      16          9          7              16\n",
       "57    5   Nov  Tue       4          2          3               5\n",
       "50    5   Dec  Thu       5          6          0               6"
      ]
     },
     "execution_count": 41,
     "metadata": {},
     "output_type": "execute_result"
    }
   ],
   "source": [
    "months=['Jan', 'Feb', 'Mar', 'Apr', 'May', 'Jun', 'Jul','Aug','Sep','Oct','Nov', 'Dec']\n",
    "rage_days['month'] = pd.Categorical(rage_days['month'], categories=months, ordered=True)\n",
    "rage_days[(rage_days['day'] == 5)].sort_values(by='month')"
   ]
  },
  {
   "cell_type": "markdown",
   "id": "173bb3c6-fb1f-4063-b82a-07aba0ac84b9",
   "metadata": {},
   "source": [
    "* The 5th of July as an extreme outlier is the major reason that the 5ths came out on top in the day of the month chart. If the number of incidents on the 5th had been somewhere at the higher end of the normal range (around 20) then the 5ths total would be somewhere in the region of the other higher dates in the chart.\n",
    "* The 5th also is one of the few dates that only include 2 weekend days (1 Sat, 1 Sun), which would have been the 2 dates with the highest number of incidents (of the 5ths), but are still less than half of the total incidents that occurred on the 5th July."
   ]
  },
  {
   "cell_type": "markdown",
   "id": "638e4e96-01fd-4c7e-9823-99f1abf518b5",
   "metadata": {},
   "source": [
    "## Analysis of number of Victims Killed and Injured per Shooting Incident"
   ]
  },
  {
   "cell_type": "code",
   "execution_count": 42,
   "id": "1c68024f-ae08-4d09-8b3b-3d2c136b8590",
   "metadata": {},
   "outputs": [
    {
     "data": {
      "text/plain": [
       "(-0.5, 4.5)"
      ]
     },
     "execution_count": 42,
     "metadata": {},
     "output_type": "execute_result"
    },
    {
     "data": {
      "image/png": "[encoded data removed]",
      "text/plain": [
       "<Figure size 1200x400 with 2 Axes>"
      ]
     },
     "metadata": {},
     "output_type": "display_data"
    }
   ],
   "source": [
    "# Set up the matplotlib figure\n",
    "f, (ax1, ax2) = plt.subplots(1, 2, figsize=(12, 4), sharey=True)\n",
    "\n",
    "sns.countplot(df, x='t_kill', ax=ax1).set_title('Number Killed per Incident (' + scope + ')')\n",
    "ax1.set_xlabel(\"# Killed\")\n",
    "ax1.set_xlim(-0.5, 4.5)\n",
    "sns.countplot(df, x='t_inj', ax=ax2).set_title('Number Wounded per Incident (' + scope + ')')\n",
    "ax2.set_xlabel(\"# Injured\")\n",
    "ax2.set_xlim(-0.5, 4.5)"
   ]
  },
  {
   "cell_type": "markdown",
   "id": "71b030bb-6771-4676-ba7e-6a4cd2ed3388",
   "metadata": {},
   "source": [
    "* So when we compare these 2 figures to the ones produced for 'Mass' shooting incidents - we can see that the vast majority of incidents where at least 1 person is shot involve nobody being killed and 1 person injured. There are a relatively small number of incidents where nobody is injured or killed, and nobody arrested. Further information regarding these subgroups are presented below.\n",
    "* For Illinois, nobody was killed in 73% (2205/3018) of shooting incidents, and nobody was injured in 22.5% (680/3018) of incidents, although someone may have been killed in many of those incidents..."
   ]
  },
  {
   "cell_type": "code",
   "execution_count": 44,
   "id": "aae057b9-f334-4092-a2ea-ef19778d5a58",
   "metadata": {},
   "outputs": [],
   "source": [
    "counts = pd.crosstab(df['v_killed'], df['v_injured'])"
   ]
  },
  {
   "cell_type": "code",
   "execution_count": 45,
   "id": "c0a8b07e-4530-4d3e-a83f-60bbcc547eee",
   "metadata": {},
   "outputs": [
    {
     "data": {
      "image/png": "[encoded data removed]",
      "text/plain": [
       "<Figure size 800x400 with 2 Axes>"
      ]
     },
     "metadata": {},
     "output_type": "display_data"
    }
   ],
   "source": [
    "sns.set_style(\"white\")\n",
    "plt.figure(figsize=(8,4))\n",
    "ax = sns.heatmap(counts, \n",
    "                 annot=True, \n",
    "                 fmt=\"d\", \n",
    "                 norm=LogNorm(),\n",
    "                 cmap=\"Reds\")\n",
    "ax.set_ylabel('No. Killed in Incident')\n",
    "ax.set_xlabel('No. Injured in Incident')\n",
    "ax.invert_yaxis()\n",
    "plt.grid(False)\n",
    "plt.title('Number Killed and Injured per Incident (' + scope + ')')\n",
    "plt.show()"
   ]
  },
  {
   "cell_type": "code",
   "execution_count": 46,
   "id": "f212c9d4-81eb-472f-92c8-fd1e1b48cdc7",
   "metadata": {},
   "outputs": [],
   "source": [
    "percentages = counts / len(df) * 100"
   ]
  },
  {
   "cell_type": "code",
   "execution_count": 47,
   "id": "17c05339-ebf3-4b4c-81ae-eada55c3fd9b",
   "metadata": {},
   "outputs": [],
   "source": [
    "perc_focus = percentages.loc[0:6, 0:12]"
   ]
  },
  {
   "cell_type": "code",
   "execution_count": 48,
   "id": "e9576331-1e4f-4abb-a69f-06d970391fdb",
   "metadata": {},
   "outputs": [
    {
     "data": {
      "image/png": "[encoded data removed]",
      "text/plain": [
       "<Figure size 800x400 with 2 Axes>"
      ]
     },
     "metadata": {},
     "output_type": "display_data"
    }
   ],
   "source": [
    "annot = perc_focus.map(lambda v: f\"{v:.1f}%\")\n",
    "\n",
    "fig, ax = plt.subplots(figsize=(8,4))\n",
    "sns.heatmap(\n",
    "    perc_focus,\n",
    "    ax=ax,\n",
    "    annot=annot,    # preformatted strings\n",
    "    fmt='',         # use the strings exactly (no extra formatting)\n",
    "    cmap='Reds',\n",
    "    cbar_kws={'label': 'Percentage (%)'},\n",
    "    square=True,\n",
    "    linewidths=0.5,\n",
    "    linecolor='gray',\n",
    "    annot_kws={'fontsize':10}\n",
    ")\n",
    "\n",
    "# flip so that the first row (y=0) appears at the bottom\n",
    "ax.invert_yaxis()\n",
    "ax.set_ylabel('No. Killed in Incident')\n",
    "ax.set_xlabel('No. Injured in Incident')\n",
    "plt.show()"
   ]
  },
  {
   "cell_type": "markdown",
   "id": "1e3fec97-8a60-42bd-a4e1-3995fcc35b96",
   "metadata": {},
   "source": [
    "* This gives us a much clearer picture of what actually happened in the majority of incidents, as we can see the **vast majority of the incidents that involved no deaths, involved at least one person getting injured**. **So the actual percentage of incidents where no victims were harmed (or killed) is actually only 3.7% of the incidents**."
   ]
  },
  {
   "cell_type": "code",
   "execution_count": 49,
   "id": "bda31ca3-4f6a-47e6-86a7-becf46d2686a",
   "metadata": {},
   "outputs": [],
   "source": [
    "s_counts = pd.crosstab(df['s_killed'], df['s_injured'])"
   ]
  },
  {
   "cell_type": "code",
   "execution_count": 50,
   "id": "4df672d1-0ed0-4a64-8f9e-d29cf76ab66a",
   "metadata": {},
   "outputs": [
    {
     "data": {
      "image/png": "[encoded data removed]",
      "text/plain": [
       "<Figure size 400x200 with 2 Axes>"
      ]
     },
     "metadata": {},
     "output_type": "display_data"
    }
   ],
   "source": [
    "sns.set_style(\"white\")\n",
    "plt.figure(figsize=(4,2))\n",
    "ax = sns.heatmap(s_counts, \n",
    "                 annot=True, \n",
    "                 fmt=\"d\", \n",
    "                 norm=LogNorm(),\n",
    "                 cmap=\"Reds\")\n",
    "ax.set_ylabel('No. Killed')\n",
    "ax.set_xlabel('No. Injured')\n",
    "ax.invert_yaxis()\n",
    "plt.grid(False)\n",
    "plt.title('Suspects Killed and Injured per Incident (' + scope + ')')\n",
    "plt.show()"
   ]
  },
  {
   "cell_type": "code",
   "execution_count": 51,
   "id": "8a8cfde4-0264-434b-b7a4-02c3178db299",
   "metadata": {},
   "outputs": [],
   "source": [
    "sia_counts = pd.crosstab(df['s_injured'], df['s_arrested'])"
   ]
  },
  {
   "cell_type": "code",
   "execution_count": 52,
   "id": "827fc3e0-c9de-410f-9170-f41e2f0372c8",
   "metadata": {},
   "outputs": [
    {
     "data": {
      "image/png": "[encoded data removed]",
      "text/plain": [
       "<Figure size 400x200 with 2 Axes>"
      ]
     },
     "metadata": {},
     "output_type": "display_data"
    }
   ],
   "source": [
    "sns.set_style(\"white\")\n",
    "plt.figure(figsize=(4,2))\n",
    "ax = sns.heatmap(sia_counts, \n",
    "                 annot=True, \n",
    "                 fmt=\"d\", \n",
    "                 norm=LogNorm(),\n",
    "                 cmap=\"Reds\")\n",
    "ax.set_ylabel('No. Injured')\n",
    "ax.set_xlabel('No. Arrested')\n",
    "ax.invert_yaxis()\n",
    "plt.grid(False)\n",
    "plt.title('Suspects Arrested and Injured per Incident (' + scope + ')')\n",
    "plt.show()"
   ]
  },
  {
   "cell_type": "code",
   "execution_count": 53,
   "id": "98ad5819-be38-4b99-91b1-85bc22e66eb6",
   "metadata": {},
   "outputs": [
    {
     "data": {
      "text/html": [
       "<div>\n",
       "<style scoped>\n",
       "    .dataframe tbody tr th:only-of-type {\n",
       "        vertical-align: middle;\n",
       "    }\n",
       "\n",
       "    .dataframe tbody tr th {\n",
       "        vertical-align: top;\n",
       "    }\n",
       "\n",
       "    .dataframe thead th {\n",
       "        text-align: right;\n",
       "    }\n",
       "</style>\n",
       "<table border=\"1\" class=\"dataframe\">\n",
       "  <thead>\n",
       "    <tr style=\"text-align: right;\">\n",
       "      <th></th>\n",
       "      <th>date</th>\n",
       "      <th>dow</th>\n",
       "      <th>day</th>\n",
       "      <th>month</th>\n",
       "      <th>week</th>\n",
       "      <th>city</th>\n",
       "      <th>address</th>\n",
       "      <th>v_killed</th>\n",
       "      <th>v_injured</th>\n",
       "      <th>s_killed</th>\n",
       "      <th>s_injured</th>\n",
       "      <th>s_arrested</th>\n",
       "      <th>t_kill</th>\n",
       "      <th>t_inj</th>\n",
       "      <th>total</th>\n",
       "      <th>id</th>\n",
       "    </tr>\n",
       "  </thead>\n",
       "  <tbody>\n",
       "    <tr>\n",
       "      <th>682</th>\n",
       "      <td>2024-09-24</td>\n",
       "      <td>Tue</td>\n",
       "      <td>24</td>\n",
       "      <td>Sep</td>\n",
       "      <td>39</td>\n",
       "      <td>Highland Park</td>\n",
       "      <td>700 block of Red Oak Ln</td>\n",
       "      <td>0</td>\n",
       "      <td>0</td>\n",
       "      <td>0</td>\n",
       "      <td>0</td>\n",
       "      <td>1</td>\n",
       "      <td>0</td>\n",
       "      <td>0</td>\n",
       "      <td>0</td>\n",
       "      <td>3033231</td>\n",
       "    </tr>\n",
       "    <tr>\n",
       "      <th>2628</th>\n",
       "      <td>2024-02-27</td>\n",
       "      <td>Tue</td>\n",
       "      <td>27</td>\n",
       "      <td>Feb</td>\n",
       "      <td>9</td>\n",
       "      <td>Carol Stream</td>\n",
       "      <td>475 Chippewa Trail</td>\n",
       "      <td>0</td>\n",
       "      <td>0</td>\n",
       "      <td>0</td>\n",
       "      <td>0</td>\n",
       "      <td>1</td>\n",
       "      <td>0</td>\n",
       "      <td>0</td>\n",
       "      <td>0</td>\n",
       "      <td>2840902</td>\n",
       "    </tr>\n",
       "    <tr>\n",
       "      <th>622</th>\n",
       "      <td>2024-10-01</td>\n",
       "      <td>Tue</td>\n",
       "      <td>1</td>\n",
       "      <td>Oct</td>\n",
       "      <td>40</td>\n",
       "      <td>Ottawa</td>\n",
       "      <td>211 E Main St</td>\n",
       "      <td>0</td>\n",
       "      <td>0</td>\n",
       "      <td>0</td>\n",
       "      <td>0</td>\n",
       "      <td>1</td>\n",
       "      <td>0</td>\n",
       "      <td>0</td>\n",
       "      <td>0</td>\n",
       "      <td>3038321</td>\n",
       "    </tr>\n",
       "    <tr>\n",
       "      <th>405</th>\n",
       "      <td>2024-10-25</td>\n",
       "      <td>Fri</td>\n",
       "      <td>25</td>\n",
       "      <td>Oct</td>\n",
       "      <td>43</td>\n",
       "      <td>Rockford</td>\n",
       "      <td>NaN</td>\n",
       "      <td>0</td>\n",
       "      <td>0</td>\n",
       "      <td>0</td>\n",
       "      <td>1</td>\n",
       "      <td>0</td>\n",
       "      <td>0</td>\n",
       "      <td>1</td>\n",
       "      <td>1</td>\n",
       "      <td>3057925</td>\n",
       "    </tr>\n",
       "    <tr>\n",
       "      <th>430</th>\n",
       "      <td>2024-10-22</td>\n",
       "      <td>Tue</td>\n",
       "      <td>22</td>\n",
       "      <td>Oct</td>\n",
       "      <td>43</td>\n",
       "      <td>Dekalb Township</td>\n",
       "      <td>Rich Rd and Nelson Rd</td>\n",
       "      <td>0</td>\n",
       "      <td>0</td>\n",
       "      <td>1</td>\n",
       "      <td>0</td>\n",
       "      <td>0</td>\n",
       "      <td>1</td>\n",
       "      <td>0</td>\n",
       "      <td>1</td>\n",
       "      <td>3054004</td>\n",
       "    </tr>\n",
       "  </tbody>\n",
       "</table>\n",
       "</div>"
      ],
      "text/plain": [
       "           date  dow  day month  week             city  \\\n",
       "682  2024-09-24  Tue   24   Sep    39    Highland Park   \n",
       "2628 2024-02-27  Tue   27   Feb     9     Carol Stream   \n",
       "622  2024-10-01  Tue    1   Oct    40           Ottawa   \n",
       "405  2024-10-25  Fri   25   Oct    43         Rockford   \n",
       "430  2024-10-22  Tue   22   Oct    43  Dekalb Township   \n",
       "\n",
       "                      address  v_killed  v_injured  s_killed  s_injured  \\\n",
       "682   700 block of Red Oak Ln         0          0         0          0   \n",
       "2628       475 Chippewa Trail         0          0         0          0   \n",
       "622             211 E Main St         0          0         0          0   \n",
       "405                       NaN         0          0         0          1   \n",
       "430     Rich Rd and Nelson Rd         0          0         1          0   \n",
       "\n",
       "      s_arrested  t_kill  t_inj  total       id  \n",
       "682            1       0      0      0  3033231  \n",
       "2628           1       0      0      0  2840902  \n",
       "622            1       0      0      0  3038321  \n",
       "405            0       0      1      1  3057925  \n",
       "430            0       1      0      1  3054004  "
      ]
     },
     "execution_count": 53,
     "metadata": {},
     "output_type": "execute_result"
    }
   ],
   "source": [
    "no_vict = df[(df['v_killed'] == 0) & (df['v_injured'] == 0)]\n",
    "no_vict.sample(5)"
   ]
  },
  {
   "cell_type": "code",
   "execution_count": 54,
   "id": "af7f8d8a-a3d2-4bd0-84ae-63ca6973d4f6",
   "metadata": {},
   "outputs": [],
   "source": [
    "sus_counts = pd.crosstab(no_vict['s_killed'], no_vict['s_injured'])"
   ]
  },
  {
   "cell_type": "code",
   "execution_count": 55,
   "id": "99954708-b1ba-4293-8bdc-b4cbf2b8e270",
   "metadata": {},
   "outputs": [
    {
     "data": {
      "image/png": "[encoded data removed]",
      "text/plain": [
       "<Figure size 400x200 with 2 Axes>"
      ]
     },
     "metadata": {},
     "output_type": "display_data"
    }
   ],
   "source": [
    "plt.figure(figsize=(4,2))\n",
    "ax = sns.heatmap(sus_counts, \n",
    "                 annot=True, \n",
    "                 fmt=\"d\", \n",
    "                 cmap=\"Reds\")\n",
    "\n",
    "ax.invert_yaxis()\n",
    "ax.set_ylabel('Suspects Killed')\n",
    "ax.set_xlabel('Suspects Injured')\n",
    "plt.title('Suspects Killed & Injured When No Victims Were Harmed')\n",
    "plt.show()"
   ]
  },
  {
   "cell_type": "code",
   "execution_count": 56,
   "id": "a13c15fa-06f9-4316-920e-390853b85bb4",
   "metadata": {},
   "outputs": [
    {
     "data": {
      "text/html": [
       "<div>\n",
       "<style scoped>\n",
       "    .dataframe tbody tr th:only-of-type {\n",
       "        vertical-align: middle;\n",
       "    }\n",
       "\n",
       "    .dataframe tbody tr th {\n",
       "        vertical-align: top;\n",
       "    }\n",
       "\n",
       "    .dataframe thead th {\n",
       "        text-align: right;\n",
       "    }\n",
       "</style>\n",
       "<table border=\"1\" class=\"dataframe\">\n",
       "  <thead>\n",
       "    <tr style=\"text-align: right;\">\n",
       "      <th></th>\n",
       "      <th>date</th>\n",
       "      <th>dow</th>\n",
       "      <th>day</th>\n",
       "      <th>month</th>\n",
       "      <th>week</th>\n",
       "      <th>city</th>\n",
       "      <th>address</th>\n",
       "      <th>v_killed</th>\n",
       "      <th>v_injured</th>\n",
       "      <th>s_killed</th>\n",
       "      <th>s_injured</th>\n",
       "      <th>s_arrested</th>\n",
       "      <th>t_kill</th>\n",
       "      <th>t_inj</th>\n",
       "      <th>total</th>\n",
       "      <th>id</th>\n",
       "    </tr>\n",
       "  </thead>\n",
       "  <tbody>\n",
       "    <tr>\n",
       "      <th>460</th>\n",
       "      <td>2024-10-19</td>\n",
       "      <td>Sat</td>\n",
       "      <td>19</td>\n",
       "      <td>Oct</td>\n",
       "      <td>42</td>\n",
       "      <td>Rockford</td>\n",
       "      <td>937 School St</td>\n",
       "      <td>0</td>\n",
       "      <td>0</td>\n",
       "      <td>0</td>\n",
       "      <td>1</td>\n",
       "      <td>4</td>\n",
       "      <td>0</td>\n",
       "      <td>1</td>\n",
       "      <td>1</td>\n",
       "      <td>3052644</td>\n",
       "    </tr>\n",
       "    <tr>\n",
       "      <th>542</th>\n",
       "      <td>2024-10-08</td>\n",
       "      <td>Tue</td>\n",
       "      <td>8</td>\n",
       "      <td>Oct</td>\n",
       "      <td>41</td>\n",
       "      <td>Rockford</td>\n",
       "      <td>Guilford Rd and N Mulford Rd</td>\n",
       "      <td>0</td>\n",
       "      <td>0</td>\n",
       "      <td>0</td>\n",
       "      <td>1</td>\n",
       "      <td>3</td>\n",
       "      <td>0</td>\n",
       "      <td>1</td>\n",
       "      <td>1</td>\n",
       "      <td>3043825</td>\n",
       "    </tr>\n",
       "    <tr>\n",
       "      <th>1873</th>\n",
       "      <td>2024-05-29</td>\n",
       "      <td>Wed</td>\n",
       "      <td>29</td>\n",
       "      <td>May</td>\n",
       "      <td>22</td>\n",
       "      <td>Chicago</td>\n",
       "      <td>6400 block of S Martin Luther King Dr</td>\n",
       "      <td>0</td>\n",
       "      <td>0</td>\n",
       "      <td>0</td>\n",
       "      <td>1</td>\n",
       "      <td>2</td>\n",
       "      <td>0</td>\n",
       "      <td>1</td>\n",
       "      <td>1</td>\n",
       "      <td>2926555</td>\n",
       "    </tr>\n",
       "    <tr>\n",
       "      <th>2200</th>\n",
       "      <td>2024-04-23</td>\n",
       "      <td>Tue</td>\n",
       "      <td>23</td>\n",
       "      <td>Apr</td>\n",
       "      <td>17</td>\n",
       "      <td>Chicago</td>\n",
       "      <td>8058 S Carpenter St</td>\n",
       "      <td>0</td>\n",
       "      <td>0</td>\n",
       "      <td>0</td>\n",
       "      <td>1</td>\n",
       "      <td>2</td>\n",
       "      <td>0</td>\n",
       "      <td>1</td>\n",
       "      <td>1</td>\n",
       "      <td>2888243</td>\n",
       "    </tr>\n",
       "    <tr>\n",
       "      <th>2887</th>\n",
       "      <td>2024-01-23</td>\n",
       "      <td>Tue</td>\n",
       "      <td>23</td>\n",
       "      <td>Jan</td>\n",
       "      <td>4</td>\n",
       "      <td>Argenta</td>\n",
       "      <td>E Duroc Rd and Cemetery Rd</td>\n",
       "      <td>0</td>\n",
       "      <td>0</td>\n",
       "      <td>0</td>\n",
       "      <td>0</td>\n",
       "      <td>2</td>\n",
       "      <td>0</td>\n",
       "      <td>0</td>\n",
       "      <td>0</td>\n",
       "      <td>2816991</td>\n",
       "    </tr>\n",
       "  </tbody>\n",
       "</table>\n",
       "</div>"
      ],
      "text/plain": [
       "           date  dow  day month  week      city  \\\n",
       "460  2024-10-19  Sat   19   Oct    42  Rockford   \n",
       "542  2024-10-08  Tue    8   Oct    41  Rockford   \n",
       "1873 2024-05-29  Wed   29   May    22   Chicago   \n",
       "2200 2024-04-23  Tue   23   Apr    17   Chicago   \n",
       "2887 2024-01-23  Tue   23   Jan     4   Argenta   \n",
       "\n",
       "                                    address  v_killed  v_injured  s_killed  \\\n",
       "460                           937 School St         0          0         0   \n",
       "542            Guilford Rd and N Mulford Rd         0          0         0   \n",
       "1873  6400 block of S Martin Luther King Dr         0          0         0   \n",
       "2200                    8058 S Carpenter St         0          0         0   \n",
       "2887             E Duroc Rd and Cemetery Rd         0          0         0   \n",
       "\n",
       "      s_injured  s_arrested  t_kill  t_inj  total       id  \n",
       "460           1           4       0      1      1  3052644  \n",
       "542           1           3       0      1      1  3043825  \n",
       "1873          1           2       0      1      1  2926555  \n",
       "2200          1           2       0      1      1  2888243  \n",
       "2887          0           2       0      0      0  2816991  "
      ]
     },
     "execution_count": 56,
     "metadata": {},
     "output_type": "execute_result"
    }
   ],
   "source": [
    "justice = no_vict[(no_vict.s_arrested > 1)]\n",
    "justice"
   ]
  },
  {
   "cell_type": "markdown",
   "id": "51c6b7b9-408c-4c1a-97ee-a5c9b8feb08d",
   "metadata": {},
   "source": [
    "* Many of these incidents generally involve defensive use of firearms to prevent other types of crimes, either by (potential) victims or law enforcement, and eventual arrest of the suspects.\n",
    "* In the first incident listed *(3052644)*, a gang of 4 youths shot out of a moving vehicle in a parking lot, a man in the parking lot returned fire, injuring a 16-year old. All 4 of the people in the car were arrested including the injured 16-year old.\n",
    "* In the 3rd it was accidental discharge that thwarted the crime: \"16-year old robber accidentally shot 17-year old accomplice in the leg, while robbing 18-year old victim on a train.The gun was recovered.\" *(2926555)*"
   ]
  },
  {
   "cell_type": "code",
   "execution_count": 57,
   "id": "708b666c-4324-4699-be41-9a2ace33ed2f",
   "metadata": {},
   "outputs": [
    {
     "data": {
      "text/html": [
       "<div>\n",
       "<style scoped>\n",
       "    .dataframe tbody tr th:only-of-type {\n",
       "        vertical-align: middle;\n",
       "    }\n",
       "\n",
       "    .dataframe tbody tr th {\n",
       "        vertical-align: top;\n",
       "    }\n",
       "\n",
       "    .dataframe thead th {\n",
       "        text-align: right;\n",
       "    }\n",
       "</style>\n",
       "<table border=\"1\" class=\"dataframe\">\n",
       "  <thead>\n",
       "    <tr style=\"text-align: right;\">\n",
       "      <th></th>\n",
       "      <th>date</th>\n",
       "      <th>dow</th>\n",
       "      <th>day</th>\n",
       "      <th>month</th>\n",
       "      <th>week</th>\n",
       "      <th>city</th>\n",
       "      <th>address</th>\n",
       "      <th>v_killed</th>\n",
       "      <th>v_injured</th>\n",
       "      <th>s_killed</th>\n",
       "      <th>s_injured</th>\n",
       "      <th>s_arrested</th>\n",
       "      <th>t_kill</th>\n",
       "      <th>t_inj</th>\n",
       "      <th>total</th>\n",
       "      <th>id</th>\n",
       "    </tr>\n",
       "  </thead>\n",
       "  <tbody>\n",
       "    <tr>\n",
       "      <th>527</th>\n",
       "      <td>2024-10-10</td>\n",
       "      <td>Thu</td>\n",
       "      <td>10</td>\n",
       "      <td>Oct</td>\n",
       "      <td>41</td>\n",
       "      <td>Chicago</td>\n",
       "      <td>4837 W Erie St</td>\n",
       "      <td>0</td>\n",
       "      <td>0</td>\n",
       "      <td>0</td>\n",
       "      <td>0</td>\n",
       "      <td>0</td>\n",
       "      <td>0</td>\n",
       "      <td>0</td>\n",
       "      <td>0</td>\n",
       "      <td>3044807</td>\n",
       "    </tr>\n",
       "    <tr>\n",
       "      <th>936</th>\n",
       "      <td>2024-08-27</td>\n",
       "      <td>Tue</td>\n",
       "      <td>27</td>\n",
       "      <td>Aug</td>\n",
       "      <td>35</td>\n",
       "      <td>Chicago</td>\n",
       "      <td>NaN</td>\n",
       "      <td>0</td>\n",
       "      <td>0</td>\n",
       "      <td>0</td>\n",
       "      <td>0</td>\n",
       "      <td>0</td>\n",
       "      <td>0</td>\n",
       "      <td>0</td>\n",
       "      <td>0</td>\n",
       "      <td>3295941</td>\n",
       "    </tr>\n",
       "    <tr>\n",
       "      <th>2256</th>\n",
       "      <td>2024-04-15</td>\n",
       "      <td>Mon</td>\n",
       "      <td>15</td>\n",
       "      <td>Apr</td>\n",
       "      <td>16</td>\n",
       "      <td>Chicago</td>\n",
       "      <td>500 block of S Jefferson St</td>\n",
       "      <td>0</td>\n",
       "      <td>0</td>\n",
       "      <td>0</td>\n",
       "      <td>0</td>\n",
       "      <td>0</td>\n",
       "      <td>0</td>\n",
       "      <td>0</td>\n",
       "      <td>0</td>\n",
       "      <td>2880331</td>\n",
       "    </tr>\n",
       "    <tr>\n",
       "      <th>1845</th>\n",
       "      <td>2024-06-01</td>\n",
       "      <td>Sat</td>\n",
       "      <td>1</td>\n",
       "      <td>Jun</td>\n",
       "      <td>22</td>\n",
       "      <td>Chicago</td>\n",
       "      <td>3700 block of N Spaulding Ave</td>\n",
       "      <td>0</td>\n",
       "      <td>0</td>\n",
       "      <td>0</td>\n",
       "      <td>0</td>\n",
       "      <td>0</td>\n",
       "      <td>0</td>\n",
       "      <td>0</td>\n",
       "      <td>0</td>\n",
       "      <td>2927617</td>\n",
       "    </tr>\n",
       "    <tr>\n",
       "      <th>1231</th>\n",
       "      <td>2024-07-27</td>\n",
       "      <td>Sat</td>\n",
       "      <td>27</td>\n",
       "      <td>Jul</td>\n",
       "      <td>30</td>\n",
       "      <td>Springfield</td>\n",
       "      <td>2171 S 9th St</td>\n",
       "      <td>0</td>\n",
       "      <td>0</td>\n",
       "      <td>0</td>\n",
       "      <td>0</td>\n",
       "      <td>0</td>\n",
       "      <td>0</td>\n",
       "      <td>0</td>\n",
       "      <td>0</td>\n",
       "      <td>2992407</td>\n",
       "    </tr>\n",
       "  </tbody>\n",
       "</table>\n",
       "</div>"
      ],
      "text/plain": [
       "           date  dow  day month  week         city  \\\n",
       "527  2024-10-10  Thu   10   Oct    41      Chicago   \n",
       "936  2024-08-27  Tue   27   Aug    35      Chicago   \n",
       "2256 2024-04-15  Mon   15   Apr    16      Chicago   \n",
       "1845 2024-06-01  Sat    1   Jun    22      Chicago   \n",
       "1231 2024-07-27  Sat   27   Jul    30  Springfield   \n",
       "\n",
       "                            address  v_killed  v_injured  s_killed  s_injured  \\\n",
       "527                  4837 W Erie St         0          0         0          0   \n",
       "936                             NaN         0          0         0          0   \n",
       "2256    500 block of S Jefferson St         0          0         0          0   \n",
       "1845  3700 block of N Spaulding Ave         0          0         0          0   \n",
       "1231                  2171 S 9th St         0          0         0          0   \n",
       "\n",
       "      s_arrested  t_kill  t_inj  total       id  \n",
       "527            0       0      0      0  3044807  \n",
       "936            0       0      0      0  3295941  \n",
       "2256           0       0      0      0  2880331  \n",
       "1845           0       0      0      0  2927617  \n",
       "1231           0       0      0      0  2992407  "
      ]
     },
     "execution_count": 57,
     "metadata": {},
     "output_type": "execute_result"
    }
   ],
   "source": [
    "no_harm_done = no_vict[(no_vict['s_killed'] == 0) & (no_vict['s_injured'] == 0) & (no_vict['s_arrested'] == 0)]\n",
    "no_harm_done.sample(5)"
   ]
  },
  {
   "cell_type": "markdown",
   "id": "5c7012f0-3926-4461-9e53-fd4b1c44467b",
   "metadata": {},
   "source": [
    "Of the 12 incidents that involved no one getting hurt or arrested: \n",
    "* 6 involved people reported or spotted **on or near school grounds with a gun**.\n",
    "* 3 more involved an **attempted car-jacking, robbery or shooting** where the victim had a concealed carry license (CCL) and returned fire, but nobody was hit.\n",
    "* 1 involved the **theft of 35 guns** from a storage unit.\n",
    "* 1 was an event where people could **turn in their guns at a church**.\n",
    "* 1 with **no information** about the incident."
   ]
  }
 ],
 "metadata": {
  "kernelspec": {
   "display_name": "Python 3 (ipykernel)",
   "language": "python",
   "name": "python3"
  },
  "language_info": {
   "codemirror_mode": {
    "name": "ipython",
    "version": 3
   },
   "file_extension": ".py",
   "mimetype": "text/x-python",
   "name": "python",
   "nbconvert_exporter": "python",
   "pygments_lexer": "ipython3",
   "version": "3.11.11"
  }
 },
 "nbformat": 4,
 "nbformat_minor": 5
}
