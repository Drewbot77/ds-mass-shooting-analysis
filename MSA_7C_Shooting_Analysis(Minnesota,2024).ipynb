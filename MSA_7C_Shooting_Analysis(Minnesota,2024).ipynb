{
 "cells": [
  {
   "cell_type": "markdown",
   "id": "aa51a967-f908-4622-8a9d-112864377a60",
   "metadata": {},
   "source": [
    "# MSA 7C:(None Mass) Shooting Analysis: GVA Data Exploration (Minnesota, 2024)"
   ]
  },
  {
   "cell_type": "code",
   "execution_count": 1,
   "id": "8ea91283-2e14-44a5-85ac-dc1cb04b51ea",
   "metadata": {},
   "outputs": [],
   "source": [
    "import json\n",
    "import pandas as pd\n",
    "import numpy as np\n",
    "import random\n",
    "from pathlib import Path\n",
    "\n",
    "import seaborn as sns\n",
    "from matplotlib.colors import LogNorm\n",
    "import matplotlib as mpl\n",
    "import matplotlib.pyplot as plt\n",
    "from matplotlib_inline.backend_inline import set_matplotlib_formats\n",
    "import myst_nb\n",
    "import wikipedia as wp\n",
    "import math\n",
    "\n"
   ]
  },
  {
   "cell_type": "markdown",
   "id": "d0eaf8c1-1a53-4eba-8656-2ed37291257c",
   "metadata": {},
   "source": [
    "## Loading Data & Formatting Dates for Analysis"
   ]
  },
  {
   "cell_type": "code",
   "execution_count": 2,
   "id": "1474a32e-d0cc-4971-a71e-bccc3271ebd1",
   "metadata": {},
   "outputs": [],
   "source": [
    "# Disable scientific notation globally\n",
    "mpl.rcParams['axes.formatter.useoffset'] = False\n",
    "mpl.rcParams['axes.formatter.use_mathtext'] = False\n",
    "mpl.rcParams['axes.formatter.limits'] = (-999, 999)  # forces normal numbers"
   ]
  },
  {
   "cell_type": "code",
   "execution_count": 3,
   "id": "e86c8bf5-2a7f-49b3-a051-88491957a7c4",
   "metadata": {},
   "outputs": [
    {
     "data": {
      "text/plain": [
       "516"
      ]
     },
     "execution_count": 3,
     "metadata": {},
     "output_type": "execute_result"
    }
   ],
   "source": [
    "df = pd.read_csv('MSA Data\\GVA_Minnesota_24.csv')\n",
    "scope = 'Minnesota, 2024'\n",
    "len(df)"
   ]
  },
  {
   "cell_type": "code",
   "execution_count": 4,
   "id": "efceaec4-41f1-41a2-acf0-5e6eb993ff30",
   "metadata": {},
   "outputs": [
    {
     "data": {
      "text/html": [
       "<div>\n",
       "<style scoped>\n",
       "    .dataframe tbody tr th:only-of-type {\n",
       "        vertical-align: middle;\n",
       "    }\n",
       "\n",
       "    .dataframe tbody tr th {\n",
       "        vertical-align: top;\n",
       "    }\n",
       "\n",
       "    .dataframe thead th {\n",
       "        text-align: right;\n",
       "    }\n",
       "</style>\n",
       "<table border=\"1\" class=\"dataframe\">\n",
       "  <thead>\n",
       "    <tr style=\"text-align: right;\">\n",
       "      <th></th>\n",
       "      <th>Incident ID</th>\n",
       "      <th>Incident Date</th>\n",
       "      <th>State</th>\n",
       "      <th>City Or County</th>\n",
       "      <th>Address</th>\n",
       "      <th>Victims Killed</th>\n",
       "      <th>Victims Injured</th>\n",
       "      <th>Suspects Killed</th>\n",
       "      <th>Suspects Injured</th>\n",
       "      <th>Suspects Arrested</th>\n",
       "      <th>Operations</th>\n",
       "    </tr>\n",
       "  </thead>\n",
       "  <tbody>\n",
       "    <tr>\n",
       "      <th>0</th>\n",
       "      <td>3106916</td>\n",
       "      <td>December 31, 2024</td>\n",
       "      <td>Minnesota</td>\n",
       "      <td>Minneapolis</td>\n",
       "      <td>3700 block of Emerson Ave N</td>\n",
       "      <td>0</td>\n",
       "      <td>1</td>\n",
       "      <td>0</td>\n",
       "      <td>0</td>\n",
       "      <td>1</td>\n",
       "      <td>NaN</td>\n",
       "    </tr>\n",
       "    <tr>\n",
       "      <th>1</th>\n",
       "      <td>3106949</td>\n",
       "      <td>December 31, 2024</td>\n",
       "      <td>Minnesota</td>\n",
       "      <td>Mankato</td>\n",
       "      <td>20946 549th Ave</td>\n",
       "      <td>0</td>\n",
       "      <td>1</td>\n",
       "      <td>0</td>\n",
       "      <td>0</td>\n",
       "      <td>1</td>\n",
       "      <td>NaN</td>\n",
       "    </tr>\n",
       "    <tr>\n",
       "      <th>2</th>\n",
       "      <td>3104463</td>\n",
       "      <td>December 29, 2024</td>\n",
       "      <td>Minnesota</td>\n",
       "      <td>Saint Paul</td>\n",
       "      <td>306 Larpenteur Ave E</td>\n",
       "      <td>0</td>\n",
       "      <td>2</td>\n",
       "      <td>0</td>\n",
       "      <td>0</td>\n",
       "      <td>1</td>\n",
       "      <td>NaN</td>\n",
       "    </tr>\n",
       "  </tbody>\n",
       "</table>\n",
       "</div>"
      ],
      "text/plain": [
       "   Incident ID      Incident Date      State City Or County  \\\n",
       "0      3106916  December 31, 2024  Minnesota    Minneapolis   \n",
       "1      3106949  December 31, 2024  Minnesota        Mankato   \n",
       "2      3104463  December 29, 2024  Minnesota     Saint Paul   \n",
       "\n",
       "                       Address  Victims Killed  Victims Injured  \\\n",
       "0  3700 block of Emerson Ave N               0                1   \n",
       "1              20946 549th Ave               0                1   \n",
       "2         306 Larpenteur Ave E               0                2   \n",
       "\n",
       "   Suspects Killed  Suspects Injured  Suspects Arrested  Operations  \n",
       "0                0                 0                  1         NaN  \n",
       "1                0                 0                  1         NaN  \n",
       "2                0                 0                  1         NaN  "
      ]
     },
     "execution_count": 4,
     "metadata": {},
     "output_type": "execute_result"
    }
   ],
   "source": [
    "df.head(3)"
   ]
  },
  {
   "cell_type": "code",
   "execution_count": 5,
   "id": "567b6e35-886c-436e-9ed5-da6c2b9f2f80",
   "metadata": {},
   "outputs": [
    {
     "data": {
      "text/plain": [
       "Incident ID            int64\n",
       "Incident Date         object\n",
       "State                 object\n",
       "City Or County        object\n",
       "Address               object\n",
       "Victims Killed         int64\n",
       "Victims Injured        int64\n",
       "Suspects Killed        int64\n",
       "Suspects Injured       int64\n",
       "Suspects Arrested      int64\n",
       "Operations           float64\n",
       "dtype: object"
      ]
     },
     "execution_count": 5,
     "metadata": {},
     "output_type": "execute_result"
    }
   ],
   "source": [
    "df.dtypes"
   ]
  },
  {
   "cell_type": "code",
   "execution_count": 6,
   "id": "8b40ced1-169d-42ab-8f04-cf7d70856cb8",
   "metadata": {},
   "outputs": [],
   "source": [
    "df['date'] = pd.to_datetime(df['Incident Date'], format = '%B %d, %Y', errors = 'coerce')"
   ]
  },
  {
   "cell_type": "code",
   "execution_count": 7,
   "id": "095191ae-4406-46fa-bd59-baf04a6e9457",
   "metadata": {},
   "outputs": [
    {
     "data": {
      "text/html": [
       "<div>\n",
       "<style scoped>\n",
       "    .dataframe tbody tr th:only-of-type {\n",
       "        vertical-align: middle;\n",
       "    }\n",
       "\n",
       "    .dataframe tbody tr th {\n",
       "        vertical-align: top;\n",
       "    }\n",
       "\n",
       "    .dataframe thead th {\n",
       "        text-align: right;\n",
       "    }\n",
       "</style>\n",
       "<table border=\"1\" class=\"dataframe\">\n",
       "  <thead>\n",
       "    <tr style=\"text-align: right;\">\n",
       "      <th></th>\n",
       "      <th>id</th>\n",
       "      <th>Incident Date</th>\n",
       "      <th>State</th>\n",
       "      <th>city</th>\n",
       "      <th>address</th>\n",
       "      <th>v_killed</th>\n",
       "      <th>v_injured</th>\n",
       "      <th>s_killed</th>\n",
       "      <th>s_injured</th>\n",
       "      <th>s_arrested</th>\n",
       "      <th>Operations</th>\n",
       "      <th>date</th>\n",
       "    </tr>\n",
       "  </thead>\n",
       "  <tbody>\n",
       "    <tr>\n",
       "      <th>0</th>\n",
       "      <td>3106916</td>\n",
       "      <td>December 31, 2024</td>\n",
       "      <td>Minnesota</td>\n",
       "      <td>Minneapolis</td>\n",
       "      <td>3700 block of Emerson Ave N</td>\n",
       "      <td>0</td>\n",
       "      <td>1</td>\n",
       "      <td>0</td>\n",
       "      <td>0</td>\n",
       "      <td>1</td>\n",
       "      <td>NaN</td>\n",
       "      <td>2024-12-31</td>\n",
       "    </tr>\n",
       "    <tr>\n",
       "      <th>1</th>\n",
       "      <td>3106949</td>\n",
       "      <td>December 31, 2024</td>\n",
       "      <td>Minnesota</td>\n",
       "      <td>Mankato</td>\n",
       "      <td>20946 549th Ave</td>\n",
       "      <td>0</td>\n",
       "      <td>1</td>\n",
       "      <td>0</td>\n",
       "      <td>0</td>\n",
       "      <td>1</td>\n",
       "      <td>NaN</td>\n",
       "      <td>2024-12-31</td>\n",
       "    </tr>\n",
       "  </tbody>\n",
       "</table>\n",
       "</div>"
      ],
      "text/plain": [
       "        id      Incident Date      State         city  \\\n",
       "0  3106916  December 31, 2024  Minnesota  Minneapolis   \n",
       "1  3106949  December 31, 2024  Minnesota      Mankato   \n",
       "\n",
       "                       address  v_killed  v_injured  s_killed  s_injured  \\\n",
       "0  3700 block of Emerson Ave N         0          1         0          0   \n",
       "1              20946 549th Ave         0          1         0          0   \n",
       "\n",
       "   s_arrested  Operations       date  \n",
       "0           1         NaN 2024-12-31  \n",
       "1           1         NaN 2024-12-31  "
      ]
     },
     "execution_count": 7,
     "metadata": {},
     "output_type": "execute_result"
    }
   ],
   "source": [
    "df = df.rename(columns={\n",
    "    'City Or County': 'city',\n",
    "    'Address': 'address',\n",
    "    'Victims Killed': 'v_killed',\n",
    "    'Victims Injured': 'v_injured',\n",
    "    'Suspects Killed': 's_killed',\n",
    "    'Suspects Injured': 's_injured',\n",
    "    'Suspects Arrested': 's_arrested',\n",
    "    'Incident ID': 'id'\n",
    "    })\n",
    "df.head(2)"
   ]
  },
  {
   "cell_type": "code",
   "execution_count": 8,
   "id": "3ffb9fc8-c3bd-45df-b81e-4c322eff6a76",
   "metadata": {},
   "outputs": [],
   "source": [
    "df['dow'] = df['date'].dt.day_name().str[:3]\n",
    "df['day'] = df['date'].dt.day\n",
    "df['month'] = df['date'].dt.month_name().str[:3]\n",
    "df['week'] = df['date'].dt.isocalendar().week\n",
    "df['t_kill'] = df['v_killed'] + df['s_killed']\n",
    "df['t_inj'] = df['v_injured'] + df['s_injured']\n",
    "df['total'] = df['t_inj'] + df['t_kill']"
   ]
  },
  {
   "cell_type": "code",
   "execution_count": 9,
   "id": "3dfe1514-d44d-423e-9a5f-bd9604bc82ed",
   "metadata": {},
   "outputs": [
    {
     "data": {
      "text/html": [
       "<div>\n",
       "<style scoped>\n",
       "    .dataframe tbody tr th:only-of-type {\n",
       "        vertical-align: middle;\n",
       "    }\n",
       "\n",
       "    .dataframe tbody tr th {\n",
       "        vertical-align: top;\n",
       "    }\n",
       "\n",
       "    .dataframe thead th {\n",
       "        text-align: right;\n",
       "    }\n",
       "</style>\n",
       "<table border=\"1\" class=\"dataframe\">\n",
       "  <thead>\n",
       "    <tr style=\"text-align: right;\">\n",
       "      <th></th>\n",
       "      <th>date</th>\n",
       "      <th>dow</th>\n",
       "      <th>day</th>\n",
       "      <th>month</th>\n",
       "      <th>week</th>\n",
       "      <th>city</th>\n",
       "      <th>address</th>\n",
       "      <th>v_killed</th>\n",
       "      <th>v_injured</th>\n",
       "      <th>s_killed</th>\n",
       "      <th>s_injured</th>\n",
       "      <th>s_arrested</th>\n",
       "      <th>t_kill</th>\n",
       "      <th>t_inj</th>\n",
       "      <th>total</th>\n",
       "      <th>id</th>\n",
       "    </tr>\n",
       "  </thead>\n",
       "  <tbody>\n",
       "    <tr>\n",
       "      <th>0</th>\n",
       "      <td>2024-12-31</td>\n",
       "      <td>Tue</td>\n",
       "      <td>31</td>\n",
       "      <td>Dec</td>\n",
       "      <td>1</td>\n",
       "      <td>Minneapolis</td>\n",
       "      <td>3700 block of Emerson Ave N</td>\n",
       "      <td>0</td>\n",
       "      <td>1</td>\n",
       "      <td>0</td>\n",
       "      <td>0</td>\n",
       "      <td>1</td>\n",
       "      <td>0</td>\n",
       "      <td>1</td>\n",
       "      <td>1</td>\n",
       "      <td>3106916</td>\n",
       "    </tr>\n",
       "    <tr>\n",
       "      <th>1</th>\n",
       "      <td>2024-12-31</td>\n",
       "      <td>Tue</td>\n",
       "      <td>31</td>\n",
       "      <td>Dec</td>\n",
       "      <td>1</td>\n",
       "      <td>Mankato</td>\n",
       "      <td>20946 549th Ave</td>\n",
       "      <td>0</td>\n",
       "      <td>1</td>\n",
       "      <td>0</td>\n",
       "      <td>0</td>\n",
       "      <td>1</td>\n",
       "      <td>0</td>\n",
       "      <td>1</td>\n",
       "      <td>1</td>\n",
       "      <td>3106949</td>\n",
       "    </tr>\n",
       "  </tbody>\n",
       "</table>\n",
       "</div>"
      ],
      "text/plain": [
       "        date  dow  day month  week         city                      address  \\\n",
       "0 2024-12-31  Tue   31   Dec     1  Minneapolis  3700 block of Emerson Ave N   \n",
       "1 2024-12-31  Tue   31   Dec     1      Mankato              20946 549th Ave   \n",
       "\n",
       "   v_killed  v_injured  s_killed  s_injured  s_arrested  t_kill  t_inj  total  \\\n",
       "0         0          1         0          0           1       0      1      1   \n",
       "1         0          1         0          0           1       0      1      1   \n",
       "\n",
       "        id  \n",
       "0  3106916  \n",
       "1  3106949  "
      ]
     },
     "execution_count": 9,
     "metadata": {},
     "output_type": "execute_result"
    }
   ],
   "source": [
    "df = df[[ 'date', 'dow','day', 'month', 'week','city', 'address', 'v_killed',\n",
    "       'v_injured', 's_killed', 's_injured', 's_arrested', 't_kill', 't_inj', 'total', 'id']]\n",
    "df.head(2)"
   ]
  },
  {
   "cell_type": "markdown",
   "id": "a1ea5a69-e6ea-4b43-bbc4-2e916db61fe5",
   "metadata": {},
   "source": [
    "## Largest Shooting Incidents in the State in 2024"
   ]
  },
  {
   "cell_type": "code",
   "execution_count": 10,
   "id": "f2e7b6dd-fab1-4316-b999-7805c88faad7",
   "metadata": {},
   "outputs": [
    {
     "data": {
      "text/html": [
       "<div>\n",
       "<style scoped>\n",
       "    .dataframe tbody tr th:only-of-type {\n",
       "        vertical-align: middle;\n",
       "    }\n",
       "\n",
       "    .dataframe tbody tr th {\n",
       "        vertical-align: top;\n",
       "    }\n",
       "\n",
       "    .dataframe thead th {\n",
       "        text-align: right;\n",
       "    }\n",
       "</style>\n",
       "<table border=\"1\" class=\"dataframe\">\n",
       "  <thead>\n",
       "    <tr style=\"text-align: right;\">\n",
       "      <th></th>\n",
       "      <th>date</th>\n",
       "      <th>dow</th>\n",
       "      <th>day</th>\n",
       "      <th>month</th>\n",
       "      <th>week</th>\n",
       "      <th>city</th>\n",
       "      <th>address</th>\n",
       "      <th>v_killed</th>\n",
       "      <th>v_injured</th>\n",
       "      <th>s_killed</th>\n",
       "      <th>s_injured</th>\n",
       "      <th>s_arrested</th>\n",
       "      <th>t_kill</th>\n",
       "      <th>t_inj</th>\n",
       "      <th>total</th>\n",
       "      <th>id</th>\n",
       "    </tr>\n",
       "  </thead>\n",
       "  <tbody>\n",
       "    <tr>\n",
       "      <th>0</th>\n",
       "      <td>2024-05-30</td>\n",
       "      <td>Thu</td>\n",
       "      <td>30</td>\n",
       "      <td>May</td>\n",
       "      <td>22</td>\n",
       "      <td>Minneapolis</td>\n",
       "      <td>2221 Blaisdell Ave</td>\n",
       "      <td>3</td>\n",
       "      <td>3</td>\n",
       "      <td>1</td>\n",
       "      <td>0</td>\n",
       "      <td>0</td>\n",
       "      <td>4</td>\n",
       "      <td>3</td>\n",
       "      <td>7</td>\n",
       "      <td>2925929</td>\n",
       "    </tr>\n",
       "    <tr>\n",
       "      <th>1</th>\n",
       "      <td>2024-07-15</td>\n",
       "      <td>Mon</td>\n",
       "      <td>15</td>\n",
       "      <td>Jul</td>\n",
       "      <td>29</td>\n",
       "      <td>Minneapolis</td>\n",
       "      <td>16th Ave S and E Franklin Ave</td>\n",
       "      <td>1</td>\n",
       "      <td>5</td>\n",
       "      <td>0</td>\n",
       "      <td>0</td>\n",
       "      <td>0</td>\n",
       "      <td>1</td>\n",
       "      <td>5</td>\n",
       "      <td>6</td>\n",
       "      <td>2969835</td>\n",
       "    </tr>\n",
       "    <tr>\n",
       "      <th>2</th>\n",
       "      <td>2024-11-07</td>\n",
       "      <td>Thu</td>\n",
       "      <td>7</td>\n",
       "      <td>Nov</td>\n",
       "      <td>45</td>\n",
       "      <td>Duluth</td>\n",
       "      <td>6009 Tacony St</td>\n",
       "      <td>4</td>\n",
       "      <td>0</td>\n",
       "      <td>1</td>\n",
       "      <td>0</td>\n",
       "      <td>0</td>\n",
       "      <td>5</td>\n",
       "      <td>0</td>\n",
       "      <td>5</td>\n",
       "      <td>3066278</td>\n",
       "    </tr>\n",
       "    <tr>\n",
       "      <th>3</th>\n",
       "      <td>2024-09-21</td>\n",
       "      <td>Sat</td>\n",
       "      <td>21</td>\n",
       "      <td>Sep</td>\n",
       "      <td>38</td>\n",
       "      <td>Minneapolis</td>\n",
       "      <td>10 S 5th St</td>\n",
       "      <td>2</td>\n",
       "      <td>3</td>\n",
       "      <td>0</td>\n",
       "      <td>0</td>\n",
       "      <td>1</td>\n",
       "      <td>2</td>\n",
       "      <td>3</td>\n",
       "      <td>5</td>\n",
       "      <td>3029992</td>\n",
       "    </tr>\n",
       "    <tr>\n",
       "      <th>4</th>\n",
       "      <td>2024-08-30</td>\n",
       "      <td>Fri</td>\n",
       "      <td>30</td>\n",
       "      <td>Aug</td>\n",
       "      <td>35</td>\n",
       "      <td>Burnsville</td>\n",
       "      <td>12100 River Hills Dr</td>\n",
       "      <td>0</td>\n",
       "      <td>5</td>\n",
       "      <td>0</td>\n",
       "      <td>0</td>\n",
       "      <td>0</td>\n",
       "      <td>0</td>\n",
       "      <td>5</td>\n",
       "      <td>5</td>\n",
       "      <td>3010531</td>\n",
       "    </tr>\n",
       "    <tr>\n",
       "      <th>5</th>\n",
       "      <td>2024-02-18</td>\n",
       "      <td>Sun</td>\n",
       "      <td>18</td>\n",
       "      <td>Feb</td>\n",
       "      <td>7</td>\n",
       "      <td>Burnsville</td>\n",
       "      <td>12605 33rd Ave</td>\n",
       "      <td>3</td>\n",
       "      <td>1</td>\n",
       "      <td>1</td>\n",
       "      <td>0</td>\n",
       "      <td>0</td>\n",
       "      <td>4</td>\n",
       "      <td>1</td>\n",
       "      <td>5</td>\n",
       "      <td>2832334</td>\n",
       "    </tr>\n",
       "    <tr>\n",
       "      <th>6</th>\n",
       "      <td>2024-10-27</td>\n",
       "      <td>Sun</td>\n",
       "      <td>27</td>\n",
       "      <td>Oct</td>\n",
       "      <td>43</td>\n",
       "      <td>Minneapolis</td>\n",
       "      <td>4400 block of Snelling Ave</td>\n",
       "      <td>3</td>\n",
       "      <td>0</td>\n",
       "      <td>0</td>\n",
       "      <td>1</td>\n",
       "      <td>1</td>\n",
       "      <td>3</td>\n",
       "      <td>1</td>\n",
       "      <td>4</td>\n",
       "      <td>3057363</td>\n",
       "    </tr>\n",
       "    <tr>\n",
       "      <th>7</th>\n",
       "      <td>2024-09-18</td>\n",
       "      <td>Wed</td>\n",
       "      <td>18</td>\n",
       "      <td>Sep</td>\n",
       "      <td>38</td>\n",
       "      <td>Minneapolis</td>\n",
       "      <td>17th Ave S and E 26th St</td>\n",
       "      <td>2</td>\n",
       "      <td>2</td>\n",
       "      <td>0</td>\n",
       "      <td>0</td>\n",
       "      <td>1</td>\n",
       "      <td>2</td>\n",
       "      <td>2</td>\n",
       "      <td>4</td>\n",
       "      <td>3027735</td>\n",
       "    </tr>\n",
       "    <tr>\n",
       "      <th>8</th>\n",
       "      <td>2024-08-18</td>\n",
       "      <td>Sun</td>\n",
       "      <td>18</td>\n",
       "      <td>Aug</td>\n",
       "      <td>33</td>\n",
       "      <td>Minneapolis</td>\n",
       "      <td>1200 block of W Broadway Ave</td>\n",
       "      <td>0</td>\n",
       "      <td>4</td>\n",
       "      <td>0</td>\n",
       "      <td>0</td>\n",
       "      <td>0</td>\n",
       "      <td>0</td>\n",
       "      <td>4</td>\n",
       "      <td>4</td>\n",
       "      <td>2998510</td>\n",
       "    </tr>\n",
       "    <tr>\n",
       "      <th>9</th>\n",
       "      <td>2024-05-25</td>\n",
       "      <td>Sat</td>\n",
       "      <td>25</td>\n",
       "      <td>May</td>\n",
       "      <td>21</td>\n",
       "      <td>Saint Paul (North Saint Paul)</td>\n",
       "      <td>2039 17th Ave E</td>\n",
       "      <td>0</td>\n",
       "      <td>4</td>\n",
       "      <td>0</td>\n",
       "      <td>0</td>\n",
       "      <td>0</td>\n",
       "      <td>0</td>\n",
       "      <td>4</td>\n",
       "      <td>4</td>\n",
       "      <td>2921097</td>\n",
       "    </tr>\n",
       "  </tbody>\n",
       "</table>\n",
       "</div>"
      ],
      "text/plain": [
       "        date  dow  day month  week                           city  \\\n",
       "0 2024-05-30  Thu   30   May    22                    Minneapolis   \n",
       "1 2024-07-15  Mon   15   Jul    29                    Minneapolis   \n",
       "2 2024-11-07  Thu    7   Nov    45                         Duluth   \n",
       "3 2024-09-21  Sat   21   Sep    38                    Minneapolis   \n",
       "4 2024-08-30  Fri   30   Aug    35                     Burnsville   \n",
       "5 2024-02-18  Sun   18   Feb     7                     Burnsville   \n",
       "6 2024-10-27  Sun   27   Oct    43                    Minneapolis   \n",
       "7 2024-09-18  Wed   18   Sep    38                    Minneapolis   \n",
       "8 2024-08-18  Sun   18   Aug    33                    Minneapolis   \n",
       "9 2024-05-25  Sat   25   May    21  Saint Paul (North Saint Paul)   \n",
       "\n",
       "                         address  v_killed  v_injured  s_killed  s_injured  \\\n",
       "0             2221 Blaisdell Ave         3          3         1          0   \n",
       "1  16th Ave S and E Franklin Ave         1          5         0          0   \n",
       "2                 6009 Tacony St         4          0         1          0   \n",
       "3                    10 S 5th St         2          3         0          0   \n",
       "4           12100 River Hills Dr         0          5         0          0   \n",
       "5                 12605 33rd Ave         3          1         1          0   \n",
       "6     4400 block of Snelling Ave         3          0         0          1   \n",
       "7       17th Ave S and E 26th St         2          2         0          0   \n",
       "8   1200 block of W Broadway Ave         0          4         0          0   \n",
       "9                2039 17th Ave E         0          4         0          0   \n",
       "\n",
       "   s_arrested  t_kill  t_inj  total       id  \n",
       "0           0       4      3      7  2925929  \n",
       "1           0       1      5      6  2969835  \n",
       "2           0       5      0      5  3066278  \n",
       "3           1       2      3      5  3029992  \n",
       "4           0       0      5      5  3010531  \n",
       "5           0       4      1      5  2832334  \n",
       "6           1       3      1      4  3057363  \n",
       "7           1       2      2      4  3027735  \n",
       "8           0       0      4      4  2998510  \n",
       "9           0       0      4      4  2921097  "
      ]
     },
     "execution_count": 10,
     "metadata": {},
     "output_type": "execute_result"
    }
   ],
   "source": [
    "df.nlargest(10, 'total').reset_index(drop=True)"
   ]
  },
  {
   "cell_type": "markdown",
   "id": "85abf2c0-84ce-4bf8-bb41-ea872ac4a3f0",
   "metadata": {},
   "source": [
    "## Shooting Incidents over the Calendar Year - 2024"
   ]
  },
  {
   "cell_type": "code",
   "execution_count": 11,
   "id": "3c7a0c36-db95-40f6-9e55-1d75515b3b08",
   "metadata": {},
   "outputs": [],
   "source": [
    "day_colours = {\n",
    "    \"Mon\": \"#a2bffe\",  # pastel blue\n",
    "    \"Tue\": \"#7af9ab\",  # Sea Foam Green\n",
    "    \"Wed\": \"#ffff14\",  # Yellow\n",
    "    \"Thu\": \"#fdaa48\",  # Light Orange    \n",
    "    \"Fri\": \"#ff474c\",  # Light Red\n",
    "    \"Sat\": \"#910951\",  # Reddish Purple\n",
    "    \"Sun\": \"#632de9\",  # Purple Blue\n",
    "}"
   ]
  },
  {
   "cell_type": "code",
   "execution_count": 12,
   "id": "fd1d647a-aa72-4a63-8cc0-d9391e4c421a",
   "metadata": {},
   "outputs": [],
   "source": [
    "month_colours = {\n",
    "    \"Jan\": \"#4C72B0\", \"Feb\": \"#6BAED6\", \"Mar\": \"#9ECAE1\",\n",
    "    \"Apr\": \"#41AB5D\", \"May\": \"#74C476\", \"Jun\": \"#A1D99B\",\n",
    "    \"Jul\": \"#FEC44F\", \"Aug\": \"#FE9929\", \"Sep\": \"#EC7014\",\n",
    "    \"Oct\": \"#E6550D\", \"Nov\": \"#A63603\", \"Dec\": \"#756BB1\"\n",
    "}"
   ]
  },
  {
   "cell_type": "code",
   "execution_count": 13,
   "id": "b04869af-7b82-43c9-b355-c295742d6a99",
   "metadata": {},
   "outputs": [
    {
     "data": {
      "text/plain": [
       "Text(0.5, 0, 'Month')"
      ]
     },
     "execution_count": 13,
     "metadata": {},
     "output_type": "execute_result"
    },
    {
     "data": {
      "image/png": "[encoded data removed]",
      "text/plain": [
       "<Figure size 1200x300 with 2 Axes>"
      ]
     },
     "metadata": {},
     "output_type": "display_data"
    }
   ],
   "source": [
    "# Set up the matplotlib figure\n",
    "f, (ax1, ax2) = plt.subplots(1, 2, figsize=(12, 3), sharey=True)\n",
    "\n",
    "sns.countplot(df, x='dow', ax=ax1, palette = day_colours, hue='dow',\n",
    "              order=['Mon', 'Tue', 'Wed', 'Thu', 'Fri', 'Sat', 'Sun']\n",
    "             ).set_title('Shooting Incident by Day of the Week (' + scope + ')')\n",
    "ax1.set_xlabel(\"Day of the Week\")\n",
    "\n",
    "sns.countplot(df, x='month', ax=ax2,palette = month_colours, hue='month',\n",
    "              order=['Jan', 'Feb', 'Mar', 'Apr', 'May', 'Jun', 'Jul','Aug','Sep','Oct','Nov', 'Dec']\n",
    "             ).set_title('Shooting Incident by Month (' + scope + ')')\n",
    "ax2.set_xlabel(\"Month\")\n",
    "#plt.set_title('Mass Shooting Incident by Day of the Week & Month (\\'14-\\'24)')\n"
   ]
  },
  {
   "attachments": {},
   "cell_type": "markdown",
   "id": "54e17af0-e9af-495c-9c36-a6431b39183d",
   "metadata": {},
   "source": [
    "**Day of the Week:** For all shooting incidents in Minnesota in 2024 we see the same kind of pattern over the week as we saw with the national level data for MSI over 10 years, with most occuring over the weekend but Saturday has slightly more incidents than on Sundays here. There are also a greater share of incidents on Mondays which is approximately level with Fridays.\n",
    "\n",
    "**Month of the Year:** While the pattern of the first half of shooting incidents in 2024 in Minnesota appears to follow the national trend of MSIs, with a steady increase as you get towards midsummer, the Autumn months have many more incidents than the national pattern would predict, with most incidents occurring in September, followed by November and then July."
   ]
  },
  {
   "cell_type": "code",
   "execution_count": 14,
   "id": "d6707236-3a24-4dbd-9eb0-be147dbc3b2d",
   "metadata": {},
   "outputs": [
    {
     "data": {
      "text/plain": [
       "Text(0.5, 1.0, 'Shooting Incident by Week (Minnesota, 2024)')"
      ]
     },
     "execution_count": 14,
     "metadata": {},
     "output_type": "execute_result"
    },
    {
     "data": {
      "image/png": "[encoded data removed]",
      "text/plain": [
       "<Figure size 1200x300 with 1 Axes>"
      ]
     },
     "metadata": {},
     "output_type": "display_data"
    }
   ],
   "source": [
    "sns.set_theme()\n",
    "plt.figure(figsize=(12,3))\n",
    "sns.countplot(df, x='week', order=range(1,53), legend=False,).set_title('Shooting Incident by Week (' + scope + ')')"
   ]
  },
  {
   "cell_type": "markdown",
   "id": "77a2f852-acbe-47e1-8d9e-28bf9d190212",
   "metadata": {},
   "source": [
    "**Week # of the Year:** Week number 30 had the most shooting incidents in Minnesota in 2024, there are about 15 other weeks with more than 10 incidents, and the rest generally between 5 and 10 incidents."
   ]
  },
  {
   "cell_type": "code",
   "execution_count": 15,
   "id": "ce8e135d-6c90-42cf-950e-81233d04986d",
   "metadata": {},
   "outputs": [
    {
     "data": {
      "text/plain": [
       "Text(0.5, 1.0, 'Shooting Incident by Day of Month (Minnesota, 2024)')"
      ]
     },
     "execution_count": 15,
     "metadata": {},
     "output_type": "execute_result"
    },
    {
     "data": {
      "image/png": "[encoded data removed]",
      "text/plain": [
       "<Figure size 800x300 with 1 Axes>"
      ]
     },
     "metadata": {},
     "output_type": "display_data"
    }
   ],
   "source": [
    "sns.set_theme()\n",
    "plt.figure(figsize=(8,3))\n",
    "\n",
    "all_days = sorted(df['day'].unique())\n",
    "highlight_day = 31    \n",
    "base_color = '#6a79f7'       # Cornflower Blue\n",
    "highlight_color = \"#7ef4cc\" # Turquoise\n",
    "\n",
    "day_palette = {day: base_color for day in all_days}\n",
    "day_palette[highlight_day] = highlight_color\n",
    "day_palette[24] = '#0504aa' #Royal Blue\n",
    "day_palette[2] = '#0652ff' # Electric Blue\n",
    "day_palette[27] = '#0652ff' # Electric Blue\n",
    "sns.countplot(df, x='day', order=range(1,32), palette=day_palette, hue = 'day', legend=False,).set_title('Shooting Incident by Day of Month (' + scope + ')')"
   ]
  },
  {
   "cell_type": "markdown",
   "id": "d50ae18e-b93d-4820-978b-a051efb6c596",
   "metadata": {},
   "source": [
    "**Day of the Month**\n",
    "* The distribution of shooting incidents by day of the month presents a bit of a puzzle to explain, the **most number of incidents occurring on the 24th, closely followed by the 27th and 2nd**. The only relevant federal holidays for those days are Memorial day (May 27th - 0 incidents) and Labor day (September 2nd - 3 incidents).\n",
    "* If we look at the **number of weekend days that fall on a particular date in 2024**, it falls a long way short of explaining the dates with the most incidents, while the 24th and 27th have 4 weekend days in 2024, the 2nd only has 3 representing the median **number of weekend days which range from 5 on the 7th, 14th, 21st and 28th, to 2 on the 5th, 12th, 19th, 26th and 31st**. A quick check of the number of incidents for each of these two groups of dates, **it is readily apparent that the number of weekend days has little effect on the totals by date in Minnesota**, particularly as the difference between the number of incidents on a weekday compared to those at the weekend is much smaller than it appears in larger datasets, such as the national MSI data over 10 years or even data from bigger states that have a higher number of incidents on average, minimising the role that randomness can play. \n",
    "* N.B. Again the 31st has the fewest number of incidents due to there being fewer 31sts than any other date."
   ]
  },
  {
   "cell_type": "markdown",
   "id": "559867e6-c0b7-4848-a40c-e0f8ced379cb",
   "metadata": {},
   "source": [
    "## Days of Rage - Dates of 2024 with the highest number of Shooting Incidents in the State"
   ]
  },
  {
   "cell_type": "code",
   "execution_count": 16,
   "id": "5c7c2d88-2e85-40cd-9d79-261f5b80f75a",
   "metadata": {},
   "outputs": [
    {
     "data": {
      "text/html": [
       "<div>\n",
       "<style scoped>\n",
       "    .dataframe tbody tr th:only-of-type {\n",
       "        vertical-align: middle;\n",
       "    }\n",
       "\n",
       "    .dataframe tbody tr th {\n",
       "        vertical-align: top;\n",
       "    }\n",
       "\n",
       "    .dataframe thead th {\n",
       "        text-align: right;\n",
       "    }\n",
       "</style>\n",
       "<table border=\"1\" class=\"dataframe\">\n",
       "  <thead>\n",
       "    <tr style=\"text-align: right;\">\n",
       "      <th></th>\n",
       "      <th>index</th>\n",
       "      <th>day</th>\n",
       "      <th>month</th>\n",
       "      <th>dow</th>\n",
       "      <th>no_inc</th>\n",
       "      <th>total_inj</th>\n",
       "      <th>total_kld</th>\n",
       "      <th>total_inj_kill</th>\n",
       "    </tr>\n",
       "  </thead>\n",
       "  <tbody>\n",
       "    <tr>\n",
       "      <th>0</th>\n",
       "      <td>75</td>\n",
       "      <td>8</td>\n",
       "      <td>Jul</td>\n",
       "      <td>Mon</td>\n",
       "      <td>5</td>\n",
       "      <td>6</td>\n",
       "      <td>1</td>\n",
       "      <td>7</td>\n",
       "    </tr>\n",
       "    <tr>\n",
       "      <th>1</th>\n",
       "      <td>190</td>\n",
       "      <td>21</td>\n",
       "      <td>Sep</td>\n",
       "      <td>Sat</td>\n",
       "      <td>5</td>\n",
       "      <td>7</td>\n",
       "      <td>3</td>\n",
       "      <td>10</td>\n",
       "    </tr>\n",
       "    <tr>\n",
       "      <th>2</th>\n",
       "      <td>229</td>\n",
       "      <td>26</td>\n",
       "      <td>Jul</td>\n",
       "      <td>Fri</td>\n",
       "      <td>5</td>\n",
       "      <td>5</td>\n",
       "      <td>0</td>\n",
       "      <td>5</td>\n",
       "    </tr>\n",
       "    <tr>\n",
       "      <th>3</th>\n",
       "      <td>2</td>\n",
       "      <td>1</td>\n",
       "      <td>Jan</td>\n",
       "      <td>Mon</td>\n",
       "      <td>4</td>\n",
       "      <td>4</td>\n",
       "      <td>1</td>\n",
       "      <td>5</td>\n",
       "    </tr>\n",
       "    <tr>\n",
       "      <th>4</th>\n",
       "      <td>4</td>\n",
       "      <td>1</td>\n",
       "      <td>Jun</td>\n",
       "      <td>Sat</td>\n",
       "      <td>4</td>\n",
       "      <td>2</td>\n",
       "      <td>2</td>\n",
       "      <td>4</td>\n",
       "    </tr>\n",
       "    <tr>\n",
       "      <th>5</th>\n",
       "      <td>24</td>\n",
       "      <td>3</td>\n",
       "      <td>Jan</td>\n",
       "      <td>Wed</td>\n",
       "      <td>4</td>\n",
       "      <td>4</td>\n",
       "      <td>0</td>\n",
       "      <td>4</td>\n",
       "    </tr>\n",
       "    <tr>\n",
       "      <th>6</th>\n",
       "      <td>39</td>\n",
       "      <td>4</td>\n",
       "      <td>Oct</td>\n",
       "      <td>Fri</td>\n",
       "      <td>4</td>\n",
       "      <td>3</td>\n",
       "      <td>1</td>\n",
       "      <td>4</td>\n",
       "    </tr>\n",
       "    <tr>\n",
       "      <th>7</th>\n",
       "      <td>59</td>\n",
       "      <td>6</td>\n",
       "      <td>Nov</td>\n",
       "      <td>Wed</td>\n",
       "      <td>4</td>\n",
       "      <td>5</td>\n",
       "      <td>0</td>\n",
       "      <td>5</td>\n",
       "    </tr>\n",
       "    <tr>\n",
       "      <th>8</th>\n",
       "      <td>91</td>\n",
       "      <td>10</td>\n",
       "      <td>Feb</td>\n",
       "      <td>Sat</td>\n",
       "      <td>4</td>\n",
       "      <td>3</td>\n",
       "      <td>1</td>\n",
       "      <td>4</td>\n",
       "    </tr>\n",
       "    <tr>\n",
       "      <th>9</th>\n",
       "      <td>131</td>\n",
       "      <td>15</td>\n",
       "      <td>Aug</td>\n",
       "      <td>Thu</td>\n",
       "      <td>4</td>\n",
       "      <td>2</td>\n",
       "      <td>2</td>\n",
       "      <td>4</td>\n",
       "    </tr>\n",
       "  </tbody>\n",
       "</table>\n",
       "</div>"
      ],
      "text/plain": [
       "   index  day month  dow  no_inc  total_inj  total_kld  total_inj_kill\n",
       "0     75    8   Jul  Mon       5          6          1               7\n",
       "1    190   21   Sep  Sat       5          7          3              10\n",
       "2    229   26   Jul  Fri       5          5          0               5\n",
       "3      2    1   Jan  Mon       4          4          1               5\n",
       "4      4    1   Jun  Sat       4          2          2               4\n",
       "5     24    3   Jan  Wed       4          4          0               4\n",
       "6     39    4   Oct  Fri       4          3          1               4\n",
       "7     59    6   Nov  Wed       4          5          0               5\n",
       "8     91   10   Feb  Sat       4          3          1               4\n",
       "9    131   15   Aug  Thu       4          2          2               4"
      ]
     },
     "execution_count": 16,
     "metadata": {},
     "output_type": "execute_result"
    }
   ],
   "source": [
    "rage_days = df.groupby(['day','month','dow']).agg(\n",
    "    no_inc = pd.NamedAgg(column=\"t_kill\", aggfunc=\"count\"),\n",
    "    total_inj = pd.NamedAgg(column=\"t_inj\", aggfunc=\"sum\"),\n",
    "    total_kld = pd.NamedAgg(column=\"t_kill\", aggfunc=\"sum\"), \n",
    "    total_inj_kill = pd.NamedAgg(column=\"total\", aggfunc=\"sum\")\n",
    ")\n",
    "rage_days = rage_days.reset_index()\n",
    "rage_days.nlargest(10, 'no_inc').reset_index()"
   ]
  },
  {
   "cell_type": "markdown",
   "id": "049ba3f0-7f44-49b9-a9fd-9d63be91534c",
   "metadata": {},
   "source": [
    "**Day of the Year:** In 2024 in Minnesota there were 3 days with 5 shooting incidents each, but as there is only a small range in incidents with all days having between 0 and 5 incidents, and no apparent pattern to the days with most incidents, it's assumed that many of the incidents happened on these days by chance. As you can see in the table above, there doesn't appear to be any pattern to the days of the week, or months of the year aside from the relative infrequency of Spring months, which we already acknowledged in the monthly totals analysis."
   ]
  },
  {
   "cell_type": "code",
   "execution_count": 17,
   "id": "db6b4b5b-6af7-472a-abd0-0cc375aeef33",
   "metadata": {},
   "outputs": [
    {
     "data": {
      "text/plain": [
       "278"
      ]
     },
     "execution_count": 17,
     "metadata": {},
     "output_type": "execute_result"
    }
   ],
   "source": [
    "len(rage_days) # "
   ]
  },
  {
   "cell_type": "code",
   "execution_count": 18,
   "id": "e5eba2b8-94c0-4d33-b332-5eb08a3516fc",
   "metadata": {},
   "outputs": [
    {
     "data": {
      "text/plain": [
       "Text(0.5, 0, 'Total Number of Incidents in a Day')"
      ]
     },
     "execution_count": 18,
     "metadata": {},
     "output_type": "execute_result"
    },
    {
     "data": {
      "image/png": "[encoded data removed]",
      "text/plain": [
       "<Figure size 800x300 with 1 Axes>"
      ]
     },
     "metadata": {},
     "output_type": "display_data"
    }
   ],
   "source": [
    "sns.set_theme()\n",
    "plt.figure(figsize=(8,3))\n",
    "sns.countplot(rage_days, x='no_inc').set_title('Total Number of Shooting Incidents per Day (' + scope + ')')\n",
    "plt.xlabel ('Total Number of Incidents in a Day')"
   ]
  },
  {
   "cell_type": "markdown",
   "id": "30976731-a75c-4c03-bd19-34284ee8c6fe",
   "metadata": {},
   "source": [
    "* Because this dataset was originally aggregated from rows of shooting incidents, days of the year when no shooting incidents took place are not represented in the data. It's worth noting that there were **88 days when no shooting incidents occurred** (366 - 278).\n",
    "* There are also no days with significantly more shooting incidents than the others, and with no particular reason to expect more incidents on the 3 days in which 5 incidents occurred, it appears that this activity is the result of little more than random chance. When we aggregate these incidents by something arbitrary such as date within a month, we increase the randomness of the totals, introducing more noise making the results even harder to explain through reasoning."
   ]
  },
  {
   "cell_type": "code",
   "execution_count": 19,
   "id": "f57139ca-12ef-4d74-8cc2-7c8d8be5dbc3",
   "metadata": {},
   "outputs": [
    {
     "data": {
      "text/html": [
       "<div>\n",
       "<style scoped>\n",
       "    .dataframe tbody tr th:only-of-type {\n",
       "        vertical-align: middle;\n",
       "    }\n",
       "\n",
       "    .dataframe tbody tr th {\n",
       "        vertical-align: top;\n",
       "    }\n",
       "\n",
       "    .dataframe thead th {\n",
       "        text-align: right;\n",
       "    }\n",
       "</style>\n",
       "<table border=\"1\" class=\"dataframe\">\n",
       "  <thead>\n",
       "    <tr style=\"text-align: right;\">\n",
       "      <th></th>\n",
       "      <th>day</th>\n",
       "      <th>month</th>\n",
       "      <th>dow</th>\n",
       "      <th>no_inc</th>\n",
       "      <th>total_inj</th>\n",
       "      <th>total_kld</th>\n",
       "      <th>total_inj_kill</th>\n",
       "    </tr>\n",
       "  </thead>\n",
       "  <tbody>\n",
       "    <tr>\n",
       "      <th>210</th>\n",
       "      <td>24</td>\n",
       "      <td>Jan</td>\n",
       "      <td>Wed</td>\n",
       "      <td>1</td>\n",
       "      <td>0</td>\n",
       "      <td>1</td>\n",
       "      <td>1</td>\n",
       "    </tr>\n",
       "    <tr>\n",
       "      <th>209</th>\n",
       "      <td>24</td>\n",
       "      <td>Feb</td>\n",
       "      <td>Sat</td>\n",
       "      <td>3</td>\n",
       "      <td>3</td>\n",
       "      <td>0</td>\n",
       "      <td>3</td>\n",
       "    </tr>\n",
       "    <tr>\n",
       "      <th>213</th>\n",
       "      <td>24</td>\n",
       "      <td>Mar</td>\n",
       "      <td>Sun</td>\n",
       "      <td>1</td>\n",
       "      <td>2</td>\n",
       "      <td>0</td>\n",
       "      <td>2</td>\n",
       "    </tr>\n",
       "    <tr>\n",
       "      <th>206</th>\n",
       "      <td>24</td>\n",
       "      <td>Apr</td>\n",
       "      <td>Wed</td>\n",
       "      <td>1</td>\n",
       "      <td>2</td>\n",
       "      <td>0</td>\n",
       "      <td>2</td>\n",
       "    </tr>\n",
       "    <tr>\n",
       "      <th>214</th>\n",
       "      <td>24</td>\n",
       "      <td>May</td>\n",
       "      <td>Fri</td>\n",
       "      <td>1</td>\n",
       "      <td>1</td>\n",
       "      <td>0</td>\n",
       "      <td>1</td>\n",
       "    </tr>\n",
       "    <tr>\n",
       "      <th>212</th>\n",
       "      <td>24</td>\n",
       "      <td>Jun</td>\n",
       "      <td>Mon</td>\n",
       "      <td>3</td>\n",
       "      <td>2</td>\n",
       "      <td>1</td>\n",
       "      <td>3</td>\n",
       "    </tr>\n",
       "    <tr>\n",
       "      <th>211</th>\n",
       "      <td>24</td>\n",
       "      <td>Jul</td>\n",
       "      <td>Wed</td>\n",
       "      <td>2</td>\n",
       "      <td>1</td>\n",
       "      <td>1</td>\n",
       "      <td>2</td>\n",
       "    </tr>\n",
       "    <tr>\n",
       "      <th>207</th>\n",
       "      <td>24</td>\n",
       "      <td>Aug</td>\n",
       "      <td>Sat</td>\n",
       "      <td>2</td>\n",
       "      <td>2</td>\n",
       "      <td>1</td>\n",
       "      <td>3</td>\n",
       "    </tr>\n",
       "    <tr>\n",
       "      <th>217</th>\n",
       "      <td>24</td>\n",
       "      <td>Sep</td>\n",
       "      <td>Tue</td>\n",
       "      <td>2</td>\n",
       "      <td>1</td>\n",
       "      <td>2</td>\n",
       "      <td>3</td>\n",
       "    </tr>\n",
       "    <tr>\n",
       "      <th>216</th>\n",
       "      <td>24</td>\n",
       "      <td>Oct</td>\n",
       "      <td>Thu</td>\n",
       "      <td>2</td>\n",
       "      <td>1</td>\n",
       "      <td>1</td>\n",
       "      <td>2</td>\n",
       "    </tr>\n",
       "    <tr>\n",
       "      <th>215</th>\n",
       "      <td>24</td>\n",
       "      <td>Nov</td>\n",
       "      <td>Sun</td>\n",
       "      <td>3</td>\n",
       "      <td>3</td>\n",
       "      <td>0</td>\n",
       "      <td>3</td>\n",
       "    </tr>\n",
       "    <tr>\n",
       "      <th>208</th>\n",
       "      <td>24</td>\n",
       "      <td>Dec</td>\n",
       "      <td>Tue</td>\n",
       "      <td>2</td>\n",
       "      <td>2</td>\n",
       "      <td>0</td>\n",
       "      <td>2</td>\n",
       "    </tr>\n",
       "  </tbody>\n",
       "</table>\n",
       "</div>"
      ],
      "text/plain": [
       "     day month  dow  no_inc  total_inj  total_kld  total_inj_kill\n",
       "210   24   Jan  Wed       1          0          1               1\n",
       "209   24   Feb  Sat       3          3          0               3\n",
       "213   24   Mar  Sun       1          2          0               2\n",
       "206   24   Apr  Wed       1          2          0               2\n",
       "214   24   May  Fri       1          1          0               1\n",
       "212   24   Jun  Mon       3          2          1               3\n",
       "211   24   Jul  Wed       2          1          1               2\n",
       "207   24   Aug  Sat       2          2          1               3\n",
       "217   24   Sep  Tue       2          1          2               3\n",
       "216   24   Oct  Thu       2          1          1               2\n",
       "215   24   Nov  Sun       3          3          0               3\n",
       "208   24   Dec  Tue       2          2          0               2"
      ]
     },
     "execution_count": 19,
     "metadata": {},
     "output_type": "execute_result"
    }
   ],
   "source": [
    "months=['Jan', 'Feb', 'Mar', 'Apr', 'May', 'Jun', 'Jul','Aug','Sep','Oct','Nov', 'Dec']\n",
    "rage_days['month'] = pd.Categorical(rage_days['month'], categories=months, ordered=True)\n",
    "rage_days[(rage_days['day'] == 24)].sort_values(by='month')"
   ]
  },
  {
   "cell_type": "markdown",
   "id": "300f15ff-01ae-4330-b408-c6095b02be63",
   "metadata": {},
   "source": [
    "**Review of Incidents on the 24th**: Perhaps the 24th had the highest number of incidents because there were no 24ths without an incident rather than having any particular days contributing a larger number of incidents (Min=1, Max=3)."
   ]
  },
  {
   "cell_type": "markdown",
   "id": "638e4e96-01fd-4c7e-9823-99f1abf518b5",
   "metadata": {},
   "source": [
    "## Analysis of number of Victims Killed and Injured per Shooting Incident"
   ]
  },
  {
   "cell_type": "code",
   "execution_count": 20,
   "id": "1c68024f-ae08-4d09-8b3b-3d2c136b8590",
   "metadata": {},
   "outputs": [
    {
     "data": {
      "text/plain": [
       "(-0.5, 4.5)"
      ]
     },
     "execution_count": 20,
     "metadata": {},
     "output_type": "execute_result"
    },
    {
     "data": {
      "image/png": "[encoded data removed]",
      "text/plain": [
       "<Figure size 1200x400 with 2 Axes>"
      ]
     },
     "metadata": {},
     "output_type": "display_data"
    }
   ],
   "source": [
    "# Set up the matplotlib figure\n",
    "f, (ax1, ax2) = plt.subplots(1, 2, figsize=(12, 4), sharey=True)\n",
    "\n",
    "sns.countplot(df, x='t_kill', ax=ax1).set_title('Number Killed per Incident (' + scope + ')')\n",
    "ax1.set_xlabel(\"# Killed\")\n",
    "ax1.set_xlim(-0.5, 4.5)\n",
    "sns.countplot(df, x='t_inj', ax=ax2).set_title('Number Wounded per Incident (' + scope + ')')\n",
    "ax2.set_xlabel(\"# Injured\")\n",
    "ax2.set_xlim(-0.5, 4.5)"
   ]
  },
  {
   "cell_type": "markdown",
   "id": "71b030bb-6771-4676-ba7e-6a4cd2ed3388",
   "metadata": {},
   "source": [
    "* So when we compare these 2 figures to the ones produced for 'Mass' shooting incidents - we can see that the vast majority of incidents where at least 1 person is shot involve nobody being killed and 1 person injured. There are a relatively small number of incidents where nobody is injured or killed, and nobody arrested. Further information regarding these subgroups are presented below. "
   ]
  },
  {
   "cell_type": "code",
   "execution_count": 21,
   "id": "aae057b9-f334-4092-a2ea-ef19778d5a58",
   "metadata": {},
   "outputs": [],
   "source": [
    "counts = pd.crosstab(df['v_killed'], df['v_injured'])"
   ]
  },
  {
   "cell_type": "code",
   "execution_count": 22,
   "id": "c0a8b07e-4530-4d3e-a83f-60bbcc547eee",
   "metadata": {},
   "outputs": [
    {
     "data": {
      "image/png": "[encoded data removed]",
      "text/plain": [
       "<Figure size 800x400 with 2 Axes>"
      ]
     },
     "metadata": {},
     "output_type": "display_data"
    }
   ],
   "source": [
    "sns.set_style(\"white\")\n",
    "plt.figure(figsize=(8,4))\n",
    "ax = sns.heatmap(counts, \n",
    "                 annot=True, \n",
    "                 fmt=\"d\", \n",
    "                 norm=LogNorm(),\n",
    "                 cmap=\"Reds\")\n",
    "ax.set_ylabel('No. Killed in Incident')\n",
    "ax.set_xlabel('No. Injured in Incident')\n",
    "ax.invert_yaxis()\n",
    "plt.grid(False)\n",
    "plt.title('Number Killed and Injured per Incident (' + scope + ')')\n",
    "plt.show()"
   ]
  },
  {
   "cell_type": "code",
   "execution_count": 23,
   "id": "f212c9d4-81eb-472f-92c8-fd1e1b48cdc7",
   "metadata": {},
   "outputs": [],
   "source": [
    "percentages = counts / counts.values.sum() * 100"
   ]
  },
  {
   "cell_type": "code",
   "execution_count": 24,
   "id": "17c05339-ebf3-4b4c-81ae-eada55c3fd9b",
   "metadata": {},
   "outputs": [],
   "source": [
    "perc_focus = percentages.loc[0:4, 0:6]"
   ]
  },
  {
   "cell_type": "code",
   "execution_count": 25,
   "id": "e9576331-1e4f-4abb-a69f-06d970391fdb",
   "metadata": {},
   "outputs": [
    {
     "data": {
      "image/png": "[encoded data removed]",
      "text/plain": [
       "<Figure size 800x400 with 2 Axes>"
      ]
     },
     "metadata": {},
     "output_type": "display_data"
    }
   ],
   "source": [
    "annot = perc_focus.map(lambda v: f\"{v:.1f}%\")\n",
    "\n",
    "fig, ax = plt.subplots(figsize=(8,4))\n",
    "sns.heatmap(\n",
    "    perc_focus,\n",
    "    ax=ax,\n",
    "    annot=annot,    # preformatted strings\n",
    "    fmt='',         # use the strings exactly (no extra formatting)\n",
    "    cmap='Reds',\n",
    "    cbar_kws={'label': 'Percentage (%)'},\n",
    "    square=True,\n",
    "    linewidths=0.5,\n",
    "    linecolor='gray',\n",
    "    annot_kws={'fontsize':10}\n",
    ")\n",
    "\n",
    "# flip so that the first row (y=0) appears at the bottom\n",
    "ax.invert_yaxis()\n",
    "ax.set_ylabel('No. Killed in Incident')\n",
    "ax.set_xlabel('No. Injured in Incident')\n",
    "plt.show()"
   ]
  },
  {
   "cell_type": "code",
   "execution_count": 26,
   "id": "bda31ca3-4f6a-47e6-86a7-becf46d2686a",
   "metadata": {},
   "outputs": [],
   "source": [
    "s_counts = pd.crosstab(df['s_killed'], df['s_injured'])"
   ]
  },
  {
   "cell_type": "code",
   "execution_count": 27,
   "id": "4df672d1-0ed0-4a64-8f9e-d29cf76ab66a",
   "metadata": {},
   "outputs": [
    {
     "data": {
      "image/png": "[encoded data removed]",
      "text/plain": [
       "<Figure size 400x200 with 2 Axes>"
      ]
     },
     "metadata": {},
     "output_type": "display_data"
    }
   ],
   "source": [
    "sns.set_style(\"white\")\n",
    "plt.figure(figsize=(4,2))\n",
    "ax = sns.heatmap(s_counts, \n",
    "                 annot=True, \n",
    "                 fmt=\"d\", \n",
    "                 norm=LogNorm(),\n",
    "                 cmap=\"Reds\")\n",
    "ax.set_ylabel('No. Killed')\n",
    "ax.set_xlabel('No. Injured')\n",
    "ax.invert_yaxis()\n",
    "plt.grid(False)\n",
    "plt.title('Suspects Killed and Injured per Incident (' + scope + ')')\n",
    "plt.show()"
   ]
  },
  {
   "cell_type": "code",
   "execution_count": 28,
   "id": "a5ba0ccf-c6d4-411d-83a9-b9c587cbf1b6",
   "metadata": {},
   "outputs": [],
   "source": [
    "sia_counts = pd.crosstab(df['s_injured'], df['s_arrested'])"
   ]
  },
  {
   "cell_type": "code",
   "execution_count": 29,
   "id": "ed076009-de63-4277-96d8-6f205388c0c7",
   "metadata": {},
   "outputs": [
    {
     "data": {
      "image/png": "[encoded data removed]",
      "text/plain": [
       "<Figure size 400x200 with 2 Axes>"
      ]
     },
     "metadata": {},
     "output_type": "display_data"
    }
   ],
   "source": [
    "sns.set_style(\"white\")\n",
    "plt.figure(figsize=(4,2))\n",
    "ax = sns.heatmap(sia_counts, \n",
    "                 annot=True, \n",
    "                 fmt=\"d\", \n",
    "                 norm=LogNorm(),\n",
    "                 cmap=\"Reds\")\n",
    "ax.set_ylabel('No. Injured')\n",
    "ax.set_xlabel('No. Arrested')\n",
    "ax.invert_yaxis()\n",
    "plt.grid(False)\n",
    "plt.title('Suspects Arrested and Injured per Incident (' + scope + ')')\n",
    "plt.show()"
   ]
  },
  {
   "cell_type": "code",
   "execution_count": 30,
   "id": "98ad5819-be38-4b99-91b1-85bc22e66eb6",
   "metadata": {},
   "outputs": [
    {
     "data": {
      "text/html": [
       "<div>\n",
       "<style scoped>\n",
       "    .dataframe tbody tr th:only-of-type {\n",
       "        vertical-align: middle;\n",
       "    }\n",
       "\n",
       "    .dataframe tbody tr th {\n",
       "        vertical-align: top;\n",
       "    }\n",
       "\n",
       "    .dataframe thead th {\n",
       "        text-align: right;\n",
       "    }\n",
       "</style>\n",
       "<table border=\"1\" class=\"dataframe\">\n",
       "  <thead>\n",
       "    <tr style=\"text-align: right;\">\n",
       "      <th></th>\n",
       "      <th>date</th>\n",
       "      <th>dow</th>\n",
       "      <th>day</th>\n",
       "      <th>month</th>\n",
       "      <th>week</th>\n",
       "      <th>city</th>\n",
       "      <th>address</th>\n",
       "      <th>v_killed</th>\n",
       "      <th>v_injured</th>\n",
       "      <th>s_killed</th>\n",
       "      <th>s_injured</th>\n",
       "      <th>s_arrested</th>\n",
       "      <th>t_kill</th>\n",
       "      <th>t_inj</th>\n",
       "      <th>total</th>\n",
       "      <th>id</th>\n",
       "    </tr>\n",
       "  </thead>\n",
       "  <tbody>\n",
       "    <tr>\n",
       "      <th>387</th>\n",
       "      <td>2024-04-14</td>\n",
       "      <td>Sun</td>\n",
       "      <td>14</td>\n",
       "      <td>Apr</td>\n",
       "      <td>15</td>\n",
       "      <td>Cannon Falls</td>\n",
       "      <td>32021 County 24 Blvd</td>\n",
       "      <td>0</td>\n",
       "      <td>0</td>\n",
       "      <td>1</td>\n",
       "      <td>0</td>\n",
       "      <td>0</td>\n",
       "      <td>1</td>\n",
       "      <td>0</td>\n",
       "      <td>1</td>\n",
       "      <td>2880613</td>\n",
       "    </tr>\n",
       "    <tr>\n",
       "      <th>409</th>\n",
       "      <td>2024-04-02</td>\n",
       "      <td>Tue</td>\n",
       "      <td>2</td>\n",
       "      <td>Apr</td>\n",
       "      <td>14</td>\n",
       "      <td>Burnsville</td>\n",
       "      <td>600 State Hwy 13</td>\n",
       "      <td>0</td>\n",
       "      <td>0</td>\n",
       "      <td>0</td>\n",
       "      <td>0</td>\n",
       "      <td>1</td>\n",
       "      <td>0</td>\n",
       "      <td>0</td>\n",
       "      <td>0</td>\n",
       "      <td>2869041</td>\n",
       "    </tr>\n",
       "    <tr>\n",
       "      <th>462</th>\n",
       "      <td>2024-02-12</td>\n",
       "      <td>Mon</td>\n",
       "      <td>12</td>\n",
       "      <td>Feb</td>\n",
       "      <td>7</td>\n",
       "      <td>Saint Paul</td>\n",
       "      <td>275 Lexington Pkwy N</td>\n",
       "      <td>0</td>\n",
       "      <td>0</td>\n",
       "      <td>0</td>\n",
       "      <td>0</td>\n",
       "      <td>1</td>\n",
       "      <td>0</td>\n",
       "      <td>0</td>\n",
       "      <td>0</td>\n",
       "      <td>2827029</td>\n",
       "    </tr>\n",
       "    <tr>\n",
       "      <th>344</th>\n",
       "      <td>2024-05-20</td>\n",
       "      <td>Mon</td>\n",
       "      <td>20</td>\n",
       "      <td>May</td>\n",
       "      <td>21</td>\n",
       "      <td>Red Wing</td>\n",
       "      <td>2451 Eagle Ridge Dr</td>\n",
       "      <td>0</td>\n",
       "      <td>0</td>\n",
       "      <td>0</td>\n",
       "      <td>0</td>\n",
       "      <td>0</td>\n",
       "      <td>0</td>\n",
       "      <td>0</td>\n",
       "      <td>0</td>\n",
       "      <td>2917977</td>\n",
       "    </tr>\n",
       "    <tr>\n",
       "      <th>457</th>\n",
       "      <td>2024-02-18</td>\n",
       "      <td>Sun</td>\n",
       "      <td>18</td>\n",
       "      <td>Feb</td>\n",
       "      <td>7</td>\n",
       "      <td>Elbow Lake</td>\n",
       "      <td>324 10th Ave</td>\n",
       "      <td>0</td>\n",
       "      <td>0</td>\n",
       "      <td>1</td>\n",
       "      <td>0</td>\n",
       "      <td>0</td>\n",
       "      <td>1</td>\n",
       "      <td>0</td>\n",
       "      <td>1</td>\n",
       "      <td>2833403</td>\n",
       "    </tr>\n",
       "  </tbody>\n",
       "</table>\n",
       "</div>"
      ],
      "text/plain": [
       "          date  dow  day month  week          city               address  \\\n",
       "387 2024-04-14  Sun   14   Apr    15  Cannon Falls  32021 County 24 Blvd   \n",
       "409 2024-04-02  Tue    2   Apr    14    Burnsville      600 State Hwy 13   \n",
       "462 2024-02-12  Mon   12   Feb     7    Saint Paul  275 Lexington Pkwy N   \n",
       "344 2024-05-20  Mon   20   May    21      Red Wing   2451 Eagle Ridge Dr   \n",
       "457 2024-02-18  Sun   18   Feb     7    Elbow Lake          324 10th Ave   \n",
       "\n",
       "     v_killed  v_injured  s_killed  s_injured  s_arrested  t_kill  t_inj  \\\n",
       "387         0          0         1          0           0       1      0   \n",
       "409         0          0         0          0           1       0      0   \n",
       "462         0          0         0          0           1       0      0   \n",
       "344         0          0         0          0           0       0      0   \n",
       "457         0          0         1          0           0       1      0   \n",
       "\n",
       "     total       id  \n",
       "387      1  2880613  \n",
       "409      0  2869041  \n",
       "462      0  2827029  \n",
       "344      0  2917977  \n",
       "457      1  2833403  "
      ]
     },
     "execution_count": 30,
     "metadata": {},
     "output_type": "execute_result"
    }
   ],
   "source": [
    "no_vict = df[(df['v_killed'] == 0) & (df['v_injured'] == 0)]\n",
    "no_vict.sample(5)"
   ]
  },
  {
   "cell_type": "code",
   "execution_count": 32,
   "id": "af7f8d8a-a3d2-4bd0-84ae-63ca6973d4f6",
   "metadata": {},
   "outputs": [],
   "source": [
    "sus_counts = pd.crosstab(no_vict['s_killed'], no_vict['s_injured'])"
   ]
  },
  {
   "cell_type": "code",
   "execution_count": 33,
   "id": "99954708-b1ba-4293-8bdc-b4cbf2b8e270",
   "metadata": {},
   "outputs": [
    {
     "data": {
      "image/png": "[encoded data removed]",
      "text/plain": [
       "<Figure size 400x200 with 2 Axes>"
      ]
     },
     "metadata": {},
     "output_type": "display_data"
    }
   ],
   "source": [
    "plt.figure(figsize=(4,2))\n",
    "ax = sns.heatmap(sus_counts, \n",
    "                 annot=True, \n",
    "                 fmt=\"d\", \n",
    "                 cmap=\"Reds\")\n",
    "\n",
    "ax.invert_yaxis()\n",
    "ax.set_ylabel('Suspects Killed')\n",
    "ax.set_xlabel('Suspects Injured')\n",
    "plt.title('Suspects Killed & Injured When No Victims Were Harmed')\n",
    "plt.show()"
   ]
  },
  {
   "cell_type": "code",
   "execution_count": 34,
   "id": "a13c15fa-06f9-4316-920e-390853b85bb4",
   "metadata": {},
   "outputs": [
    {
     "data": {
      "text/html": [
       "<div>\n",
       "<style scoped>\n",
       "    .dataframe tbody tr th:only-of-type {\n",
       "        vertical-align: middle;\n",
       "    }\n",
       "\n",
       "    .dataframe tbody tr th {\n",
       "        vertical-align: top;\n",
       "    }\n",
       "\n",
       "    .dataframe thead th {\n",
       "        text-align: right;\n",
       "    }\n",
       "</style>\n",
       "<table border=\"1\" class=\"dataframe\">\n",
       "  <thead>\n",
       "    <tr style=\"text-align: right;\">\n",
       "      <th></th>\n",
       "      <th>date</th>\n",
       "      <th>dow</th>\n",
       "      <th>day</th>\n",
       "      <th>month</th>\n",
       "      <th>week</th>\n",
       "      <th>city</th>\n",
       "      <th>address</th>\n",
       "      <th>v_killed</th>\n",
       "      <th>v_injured</th>\n",
       "      <th>s_killed</th>\n",
       "      <th>s_injured</th>\n",
       "      <th>s_arrested</th>\n",
       "      <th>t_kill</th>\n",
       "      <th>t_inj</th>\n",
       "      <th>total</th>\n",
       "      <th>id</th>\n",
       "    </tr>\n",
       "  </thead>\n",
       "  <tbody>\n",
       "  </tbody>\n",
       "</table>\n",
       "</div>"
      ],
      "text/plain": [
       "Empty DataFrame\n",
       "Columns: [date, dow, day, month, week, city, address, v_killed, v_injured, s_killed, s_injured, s_arrested, t_kill, t_inj, total, id]\n",
       "Index: []"
      ]
     },
     "execution_count": 34,
     "metadata": {},
     "output_type": "execute_result"
    }
   ],
   "source": [
    "justice = no_vict[(no_vict.s_arrested > 1)]\n",
    "justice.nlargest(5, 's_arrested')"
   ]
  },
  {
   "cell_type": "markdown",
   "id": "45b61f17-715d-4b3e-b24d-7f551e72bc60",
   "metadata": {},
   "source": [
    "* As we can see in the breakdown of suspects arrested, injured or killed, there don't appear to have been many incidents in Minnesota in 2024 that involved a group of suspects, and therefore the chances of arresting more than one suspect in an incident that involved no injured victims is small in an area of relative lower shooting incidence."
   ]
  },
  {
   "cell_type": "code",
   "execution_count": 35,
   "id": "708b666c-4324-4699-be41-9a2ace33ed2f",
   "metadata": {},
   "outputs": [
    {
     "data": {
      "text/html": [
       "<div>\n",
       "<style scoped>\n",
       "    .dataframe tbody tr th:only-of-type {\n",
       "        vertical-align: middle;\n",
       "    }\n",
       "\n",
       "    .dataframe tbody tr th {\n",
       "        vertical-align: top;\n",
       "    }\n",
       "\n",
       "    .dataframe thead th {\n",
       "        text-align: right;\n",
       "    }\n",
       "</style>\n",
       "<table border=\"1\" class=\"dataframe\">\n",
       "  <thead>\n",
       "    <tr style=\"text-align: right;\">\n",
       "      <th></th>\n",
       "      <th>date</th>\n",
       "      <th>dow</th>\n",
       "      <th>day</th>\n",
       "      <th>month</th>\n",
       "      <th>week</th>\n",
       "      <th>city</th>\n",
       "      <th>address</th>\n",
       "      <th>v_killed</th>\n",
       "      <th>v_injured</th>\n",
       "      <th>s_killed</th>\n",
       "      <th>s_injured</th>\n",
       "      <th>s_arrested</th>\n",
       "      <th>t_kill</th>\n",
       "      <th>t_inj</th>\n",
       "      <th>total</th>\n",
       "      <th>id</th>\n",
       "    </tr>\n",
       "  </thead>\n",
       "  <tbody>\n",
       "    <tr>\n",
       "      <th>344</th>\n",
       "      <td>2024-05-20</td>\n",
       "      <td>Mon</td>\n",
       "      <td>20</td>\n",
       "      <td>May</td>\n",
       "      <td>21</td>\n",
       "      <td>Red Wing</td>\n",
       "      <td>2451 Eagle Ridge Dr</td>\n",
       "      <td>0</td>\n",
       "      <td>0</td>\n",
       "      <td>0</td>\n",
       "      <td>0</td>\n",
       "      <td>0</td>\n",
       "      <td>0</td>\n",
       "      <td>0</td>\n",
       "      <td>0</td>\n",
       "      <td>2917977</td>\n",
       "    </tr>\n",
       "  </tbody>\n",
       "</table>\n",
       "</div>"
      ],
      "text/plain": [
       "          date  dow  day month  week      city              address  v_killed  \\\n",
       "344 2024-05-20  Mon   20   May    21  Red Wing  2451 Eagle Ridge Dr         0   \n",
       "\n",
       "     v_injured  s_killed  s_injured  s_arrested  t_kill  t_inj  total       id  \n",
       "344          0         0          0           0       0      0      0  2917977  "
      ]
     },
     "execution_count": 35,
     "metadata": {},
     "output_type": "execute_result"
    }
   ],
   "source": [
    "no_harm_done = no_vict[(no_vict['s_killed'] == 0) & (no_vict['s_injured'] == 0) & (no_vict['s_arrested'] == 0)]\n",
    "no_harm_done"
   ]
  },
  {
   "cell_type": "markdown",
   "id": "5c7012f0-3926-4461-9e53-fd4b1c44467b",
   "metadata": {},
   "source": [
    "**Nobody Hurt:** The only incident that involved nobody getting injured was the discovery of an unloaded shotgun in a vehicle on school grounds.\n"
   ]
  }
 ],
 "metadata": {
  "kernelspec": {
   "display_name": "Python 3 (ipykernel)",
   "language": "python",
   "name": "python3"
  },
  "language_info": {
   "codemirror_mode": {
    "name": "ipython",
    "version": 3
   },
   "file_extension": ".py",
   "mimetype": "text/x-python",
   "name": "python",
   "nbconvert_exporter": "python",
   "pygments_lexer": "ipython3",
   "version": "3.11.11"
  }
 },
 "nbformat": 4,
 "nbformat_minor": 5
}
