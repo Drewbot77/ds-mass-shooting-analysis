{
 "cells": [
  {
   "cell_type": "markdown",
   "id": "aa51a967-f908-4622-8a9d-112864377a60",
   "metadata": {},
   "source": [
    "# Mass Shooting Analysis X: Searching for the Most Average State in Terms of Demographics, Mass Shootings and Gun Ownership"
   ]
  },
  {
   "cell_type": "code",
   "execution_count": 1,
   "id": "8ea91283-2e14-44a5-85ac-dc1cb04b51ea",
   "metadata": {},
   "outputs": [],
   "source": [
    "import json\n",
    "import pandas as pd\n",
    "import numpy as np\n",
    "import random\n",
    "from pathlib import Path\n",
    "import math"
   ]
  },
  {
   "cell_type": "code",
   "execution_count": 2,
   "id": "a8394477-eaf0-48b4-8779-9104ba15b965",
   "metadata": {},
   "outputs": [],
   "source": [
    "ms1_sts = pd.read_csv('MSA Data\\\\us_states_demo_gun_vio_df.csv',index_col=0, encoding='utf-8') # Load pre-prepped data\n",
    "scope = 'USA, 2014-24'"
   ]
  },
  {
   "cell_type": "code",
   "execution_count": 3,
   "id": "48fef1f1-c508-4451-8388-0fa665b0797e",
   "metadata": {},
   "outputs": [
    {
     "data": {
      "text/html": [
       "<div>\n",
       "<style scoped>\n",
       "    .dataframe tbody tr th:only-of-type {\n",
       "        vertical-align: middle;\n",
       "    }\n",
       "\n",
       "    .dataframe tbody tr th {\n",
       "        vertical-align: top;\n",
       "    }\n",
       "\n",
       "    .dataframe thead th {\n",
       "        text-align: right;\n",
       "    }\n",
       "</style>\n",
       "<table border=\"1\" class=\"dataframe\">\n",
       "  <thead>\n",
       "    <tr style=\"text-align: right;\">\n",
       "      <th></th>\n",
       "      <th>state_us</th>\n",
       "      <th>population</th>\n",
       "      <th>area_sqkm</th>\n",
       "      <th>pop_density</th>\n",
       "      <th>ms_rate</th>\n",
       "      <th>no_ms_inc</th>\n",
       "      <th>total_inj</th>\n",
       "      <th>total_kld</th>\n",
       "      <th>total_inj_kill</th>\n",
       "      <th>wpi</th>\n",
       "      <th>...</th>\n",
       "      <th>Gun suicide rate</th>\n",
       "      <th>Suicide</th>\n",
       "      <th>prop_suic_w_gun</th>\n",
       "      <th>Homicide rate</th>\n",
       "      <th>Gun homicide rate</th>\n",
       "      <th>Homicide</th>\n",
       "      <th>prop_hom_w_gun</th>\n",
       "      <th>Gun deaths</th>\n",
       "      <th>gun_death_rate</th>\n",
       "      <th>gun_at_home</th>\n",
       "    </tr>\n",
       "  </thead>\n",
       "  <tbody>\n",
       "    <tr>\n",
       "      <th>0</th>\n",
       "      <td>Alaska</td>\n",
       "      <td>733391</td>\n",
       "      <td>1723337</td>\n",
       "      <td>0.425564</td>\n",
       "      <td>1.227176</td>\n",
       "      <td>9</td>\n",
       "      <td>20</td>\n",
       "      <td>20</td>\n",
       "      <td>40</td>\n",
       "      <td>2.222222</td>\n",
       "      <td>...</td>\n",
       "      <td>19.4</td>\n",
       "      <td>142</td>\n",
       "      <td>0.646667</td>\n",
       "      <td>6.7</td>\n",
       "      <td>4.2</td>\n",
       "      <td>31</td>\n",
       "      <td>0.626866</td>\n",
       "      <td>182</td>\n",
       "      <td>24.816230</td>\n",
       "      <td>0.57</td>\n",
       "    </tr>\n",
       "    <tr>\n",
       "      <th>1</th>\n",
       "      <td>Alabama</td>\n",
       "      <td>5024279</td>\n",
       "      <td>135767</td>\n",
       "      <td>37.006629</td>\n",
       "      <td>3.502990</td>\n",
       "      <td>176</td>\n",
       "      <td>713</td>\n",
       "      <td>210</td>\n",
       "      <td>923</td>\n",
       "      <td>4.051136</td>\n",
       "      <td>...</td>\n",
       "      <td>12.4</td>\n",
       "      <td>623</td>\n",
       "      <td>0.756098</td>\n",
       "      <td>14.8</td>\n",
       "      <td>12.9</td>\n",
       "      <td>650</td>\n",
       "      <td>0.871622</td>\n",
       "      <td>1315</td>\n",
       "      <td>26.172910</td>\n",
       "      <td>0.53</td>\n",
       "    </tr>\n",
       "    <tr>\n",
       "      <th>2</th>\n",
       "      <td>Arkansas</td>\n",
       "      <td>3011524</td>\n",
       "      <td>137732</td>\n",
       "      <td>21.865100</td>\n",
       "      <td>2.324405</td>\n",
       "      <td>70</td>\n",
       "      <td>307</td>\n",
       "      <td>85</td>\n",
       "      <td>392</td>\n",
       "      <td>4.385714</td>\n",
       "      <td>...</td>\n",
       "      <td>12.9</td>\n",
       "      <td>391</td>\n",
       "      <td>0.632353</td>\n",
       "      <td>11.1</td>\n",
       "      <td>9.3</td>\n",
       "      <td>281</td>\n",
       "      <td>0.837838</td>\n",
       "      <td>698</td>\n",
       "      <td>23.177634</td>\n",
       "      <td>0.52</td>\n",
       "    </tr>\n",
       "  </tbody>\n",
       "</table>\n",
       "<p>3 rows × 23 columns</p>\n",
       "</div>"
      ],
      "text/plain": [
       "   state_us  population  area_sqkm  pop_density   ms_rate  no_ms_inc  \\\n",
       "0    Alaska      733391    1723337     0.425564  1.227176          9   \n",
       "1   Alabama     5024279     135767    37.006629  3.502990        176   \n",
       "2  Arkansas     3011524     137732    21.865100  2.324405         70   \n",
       "\n",
       "   total_inj  total_kld  total_inj_kill       wpi  ...  Gun suicide rate  \\\n",
       "0         20         20              40  2.222222  ...              19.4   \n",
       "1        713        210             923  4.051136  ...              12.4   \n",
       "2        307         85             392  4.385714  ...              12.9   \n",
       "\n",
       "   Suicide  prop_suic_w_gun  Homicide rate  Gun homicide rate  Homicide  \\\n",
       "0      142         0.646667            6.7                4.2        31   \n",
       "1      623         0.756098           14.8               12.9       650   \n",
       "2      391         0.632353           11.1                9.3       281   \n",
       "\n",
       "   prop_hom_w_gun  Gun deaths  gun_death_rate  gun_at_home  \n",
       "0        0.626866         182       24.816230         0.57  \n",
       "1        0.871622        1315       26.172910         0.53  \n",
       "2        0.837838         698       23.177634         0.52  \n",
       "\n",
       "[3 rows x 23 columns]"
      ]
     },
     "execution_count": 3,
     "metadata": {},
     "output_type": "execute_result"
    }
   ],
   "source": [
    "ms1_sts.head(3)"
   ]
  },
  {
   "cell_type": "code",
   "execution_count": 4,
   "id": "362d9532-9244-468e-b73c-fd71e6537d57",
   "metadata": {},
   "outputs": [
    {
     "data": {
      "text/plain": [
       "50"
      ]
     },
     "execution_count": 4,
     "metadata": {},
     "output_type": "execute_result"
    }
   ],
   "source": [
    "ranks = ms1_sts[['state_us','population', 'pop_density', 'ms_rate', 'gun_at_home']].copy()\n",
    "len(ranks)"
   ]
  },
  {
   "cell_type": "code",
   "execution_count": 5,
   "id": "2fc6fa0d-3dfe-4c37-9640-4b916b2a5bf3",
   "metadata": {},
   "outputs": [],
   "source": [
    "ranks['pop_rank'] = ranks['population'].rank()\n",
    "ranks['den_rank'] = ranks['pop_density'].rank()\n",
    "ranks['ms_rank'] = ranks['ms_rate'].rank()\n",
    "ranks['guns_rank'] = ranks['gun_at_home'].rank()"
   ]
  },
  {
   "cell_type": "code",
   "execution_count": 6,
   "id": "94059bb8-2fa9-4c95-83ec-af4555eca03f",
   "metadata": {},
   "outputs": [],
   "source": [
    "ranks['rank_err'] = ((ranks['pop_rank'] - 25.5)**2 + (ranks['den_rank'] - 25.5)**2 + (ranks['ms_rank'] - 25.5)**2 + (ranks['guns_rank'] - 25.5)**2) / 4"
   ]
  },
  {
   "cell_type": "code",
   "execution_count": 7,
   "id": "95fb3d22-6bc0-4a9e-9e8b-7ba133d3719f",
   "metadata": {},
   "outputs": [],
   "source": [
    "tab = ranks.sort_values(by='rank_err', ascending=True).reset_index()"
   ]
  },
  {
   "cell_type": "code",
   "execution_count": 8,
   "id": "06acf50a-96fc-42d2-ab5d-e836ca6d64f5",
   "metadata": {},
   "outputs": [
    {
     "data": {
      "text/html": [
       "<div>\n",
       "<style scoped>\n",
       "    .dataframe tbody tr th:only-of-type {\n",
       "        vertical-align: middle;\n",
       "    }\n",
       "\n",
       "    .dataframe tbody tr th {\n",
       "        vertical-align: top;\n",
       "    }\n",
       "\n",
       "    .dataframe thead th {\n",
       "        text-align: right;\n",
       "    }\n",
       "</style>\n",
       "<table border=\"1\" class=\"dataframe\">\n",
       "  <thead>\n",
       "    <tr style=\"text-align: right;\">\n",
       "      <th></th>\n",
       "      <th>index</th>\n",
       "      <th>state_us</th>\n",
       "      <th>population</th>\n",
       "      <th>pop_density</th>\n",
       "      <th>ms_rate</th>\n",
       "      <th>gun_at_home</th>\n",
       "      <th>pop_rank</th>\n",
       "      <th>den_rank</th>\n",
       "      <th>ms_rank</th>\n",
       "      <th>guns_rank</th>\n",
       "      <th>rank_err</th>\n",
       "    </tr>\n",
       "  </thead>\n",
       "  <tbody>\n",
       "    <tr>\n",
       "      <th>0</th>\n",
       "      <td>23</td>\n",
       "      <td>Minnesota</td>\n",
       "      <td>5706494</td>\n",
       "      <td>25.343835</td>\n",
       "      <td>1.472007</td>\n",
       "      <td>0.39</td>\n",
       "      <td>29.0</td>\n",
       "      <td>20.0</td>\n",
       "      <td>25.0</td>\n",
       "      <td>22.0</td>\n",
       "      <td>13.7500</td>\n",
       "    </tr>\n",
       "    <tr>\n",
       "      <th>1</th>\n",
       "      <td>50</td>\n",
       "      <td>Wisconsin</td>\n",
       "      <td>5893718</td>\n",
       "      <td>34.743526</td>\n",
       "      <td>1.510082</td>\n",
       "      <td>0.47</td>\n",
       "      <td>31.0</td>\n",
       "      <td>25.0</td>\n",
       "      <td>26.0</td>\n",
       "      <td>33.5</td>\n",
       "      <td>23.6875</td>\n",
       "    </tr>\n",
       "    <tr>\n",
       "      <th>2</th>\n",
       "      <td>12</td>\n",
       "      <td>Iowa</td>\n",
       "      <td>3190369</td>\n",
       "      <td>21.889925</td>\n",
       "      <td>0.877641</td>\n",
       "      <td>0.39</td>\n",
       "      <td>20.0</td>\n",
       "      <td>17.0</td>\n",
       "      <td>15.0</td>\n",
       "      <td>22.0</td>\n",
       "      <td>56.2500</td>\n",
       "    </tr>\n",
       "  </tbody>\n",
       "</table>\n",
       "</div>"
      ],
      "text/plain": [
       "   index   state_us  population  pop_density   ms_rate  gun_at_home  pop_rank  \\\n",
       "0     23  Minnesota     5706494    25.343835  1.472007         0.39      29.0   \n",
       "1     50  Wisconsin     5893718    34.743526  1.510082         0.47      31.0   \n",
       "2     12       Iowa     3190369    21.889925  0.877641         0.39      20.0   \n",
       "\n",
       "   den_rank  ms_rank  guns_rank  rank_err  \n",
       "0      20.0     25.0       22.0   13.7500  \n",
       "1      25.0     26.0       33.5   23.6875  \n",
       "2      17.0     15.0       22.0   56.2500  "
      ]
     },
     "execution_count": 8,
     "metadata": {},
     "output_type": "execute_result"
    }
   ],
   "source": [
    "tab.head(3)"
   ]
  },
  {
   "cell_type": "markdown",
   "id": "0f4fc9aa-5d39-4055-83d7-8712ebd52997",
   "metadata": {},
   "source": [
    "* **Congratulations Minnesota, You're Super Average!** - GVA has data for all shooting incidents, but as we saw earlier the csv export on the GVA website only contains 2,000 records, which across the whole of the US only covers around 3 weeks of data. In order to get an idea of the proportion of events that are not classed as mass shooting incidents by ANY of the data sources. Initially I took data from California & Illinois as the 2 states with the most MSIs, but wanted the least extreme example (ie hopefully the most typical). So I ranked each state on a number of relevant factors, then calculated an error based on the square distance from the median. In these particular measures it seems that Minnesota & Wisconsin are clearly the most average states."
   ]
  },
  {
   "cell_type": "code",
   "execution_count": null,
   "id": "a12b518b-3278-4c15-97cb-769525f6ae7c",
   "metadata": {},
   "outputs": [],
   "source": []
  }
 ],
 "metadata": {
  "kernelspec": {
   "display_name": "Python 3 (ipykernel)",
   "language": "python",
   "name": "python3"
  },
  "language_info": {
   "codemirror_mode": {
    "name": "ipython",
    "version": 3
   },
   "file_extension": ".py",
   "mimetype": "text/x-python",
   "name": "python",
   "nbconvert_exporter": "python",
   "pygments_lexer": "ipython3",
   "version": "3.11.11"
  }
 },
 "nbformat": 4,
 "nbformat_minor": 5
}
